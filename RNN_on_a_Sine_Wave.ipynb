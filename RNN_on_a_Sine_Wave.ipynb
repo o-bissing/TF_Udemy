{
  "nbformat": 4,
  "nbformat_minor": 0,
  "metadata": {
    "colab": {
      "provenance": [],
      "authorship_tag": "ABX9TyPSGpovRAy1Dlf9VfRARy6J",
      "include_colab_link": true
    },
    "kernelspec": {
      "name": "python3",
      "display_name": "Python 3"
    },
    "language_info": {
      "name": "python"
    }
  },
  "cells": [
    {
      "cell_type": "markdown",
      "metadata": {
        "id": "view-in-github",
        "colab_type": "text"
      },
      "source": [
        "<a href=\"https://colab.research.google.com/github/o-bissing/TF_Udemy/blob/main/RNN_on_a_Sine_Wave.ipynb\" target=\"_parent\"><img src=\"https://colab.research.google.com/assets/colab-badge.svg\" alt=\"Open In Colab\"/></a>"
      ]
    },
    {
      "cell_type": "code",
      "execution_count": 1,
      "metadata": {
        "id": "8reacUiZGDUI"
      },
      "outputs": [],
      "source": [
        "import pandas as pd\n",
        "import numpy as np\n",
        "%matplotlib inline\n",
        "import matplotlib.pyplot as plt"
      ]
    },
    {
      "cell_type": "code",
      "source": [
        "x = np.linspace(0,50,501)"
      ],
      "metadata": {
        "id": "qgFXzQWrGcJ_"
      },
      "execution_count": 2,
      "outputs": []
    },
    {
      "cell_type": "code",
      "source": [
        "x"
      ],
      "metadata": {
        "colab": {
          "base_uri": "https://localhost:8080/"
        },
        "id": "j2aVfN-ZGojO",
        "outputId": "0c95a17a-ee4c-40cc-b28c-1b894460cb12"
      },
      "execution_count": 3,
      "outputs": [
        {
          "output_type": "execute_result",
          "data": {
            "text/plain": [
              "array([ 0. ,  0.1,  0.2,  0.3,  0.4,  0.5,  0.6,  0.7,  0.8,  0.9,  1. ,\n",
              "        1.1,  1.2,  1.3,  1.4,  1.5,  1.6,  1.7,  1.8,  1.9,  2. ,  2.1,\n",
              "        2.2,  2.3,  2.4,  2.5,  2.6,  2.7,  2.8,  2.9,  3. ,  3.1,  3.2,\n",
              "        3.3,  3.4,  3.5,  3.6,  3.7,  3.8,  3.9,  4. ,  4.1,  4.2,  4.3,\n",
              "        4.4,  4.5,  4.6,  4.7,  4.8,  4.9,  5. ,  5.1,  5.2,  5.3,  5.4,\n",
              "        5.5,  5.6,  5.7,  5.8,  5.9,  6. ,  6.1,  6.2,  6.3,  6.4,  6.5,\n",
              "        6.6,  6.7,  6.8,  6.9,  7. ,  7.1,  7.2,  7.3,  7.4,  7.5,  7.6,\n",
              "        7.7,  7.8,  7.9,  8. ,  8.1,  8.2,  8.3,  8.4,  8.5,  8.6,  8.7,\n",
              "        8.8,  8.9,  9. ,  9.1,  9.2,  9.3,  9.4,  9.5,  9.6,  9.7,  9.8,\n",
              "        9.9, 10. , 10.1, 10.2, 10.3, 10.4, 10.5, 10.6, 10.7, 10.8, 10.9,\n",
              "       11. , 11.1, 11.2, 11.3, 11.4, 11.5, 11.6, 11.7, 11.8, 11.9, 12. ,\n",
              "       12.1, 12.2, 12.3, 12.4, 12.5, 12.6, 12.7, 12.8, 12.9, 13. , 13.1,\n",
              "       13.2, 13.3, 13.4, 13.5, 13.6, 13.7, 13.8, 13.9, 14. , 14.1, 14.2,\n",
              "       14.3, 14.4, 14.5, 14.6, 14.7, 14.8, 14.9, 15. , 15.1, 15.2, 15.3,\n",
              "       15.4, 15.5, 15.6, 15.7, 15.8, 15.9, 16. , 16.1, 16.2, 16.3, 16.4,\n",
              "       16.5, 16.6, 16.7, 16.8, 16.9, 17. , 17.1, 17.2, 17.3, 17.4, 17.5,\n",
              "       17.6, 17.7, 17.8, 17.9, 18. , 18.1, 18.2, 18.3, 18.4, 18.5, 18.6,\n",
              "       18.7, 18.8, 18.9, 19. , 19.1, 19.2, 19.3, 19.4, 19.5, 19.6, 19.7,\n",
              "       19.8, 19.9, 20. , 20.1, 20.2, 20.3, 20.4, 20.5, 20.6, 20.7, 20.8,\n",
              "       20.9, 21. , 21.1, 21.2, 21.3, 21.4, 21.5, 21.6, 21.7, 21.8, 21.9,\n",
              "       22. , 22.1, 22.2, 22.3, 22.4, 22.5, 22.6, 22.7, 22.8, 22.9, 23. ,\n",
              "       23.1, 23.2, 23.3, 23.4, 23.5, 23.6, 23.7, 23.8, 23.9, 24. , 24.1,\n",
              "       24.2, 24.3, 24.4, 24.5, 24.6, 24.7, 24.8, 24.9, 25. , 25.1, 25.2,\n",
              "       25.3, 25.4, 25.5, 25.6, 25.7, 25.8, 25.9, 26. , 26.1, 26.2, 26.3,\n",
              "       26.4, 26.5, 26.6, 26.7, 26.8, 26.9, 27. , 27.1, 27.2, 27.3, 27.4,\n",
              "       27.5, 27.6, 27.7, 27.8, 27.9, 28. , 28.1, 28.2, 28.3, 28.4, 28.5,\n",
              "       28.6, 28.7, 28.8, 28.9, 29. , 29.1, 29.2, 29.3, 29.4, 29.5, 29.6,\n",
              "       29.7, 29.8, 29.9, 30. , 30.1, 30.2, 30.3, 30.4, 30.5, 30.6, 30.7,\n",
              "       30.8, 30.9, 31. , 31.1, 31.2, 31.3, 31.4, 31.5, 31.6, 31.7, 31.8,\n",
              "       31.9, 32. , 32.1, 32.2, 32.3, 32.4, 32.5, 32.6, 32.7, 32.8, 32.9,\n",
              "       33. , 33.1, 33.2, 33.3, 33.4, 33.5, 33.6, 33.7, 33.8, 33.9, 34. ,\n",
              "       34.1, 34.2, 34.3, 34.4, 34.5, 34.6, 34.7, 34.8, 34.9, 35. , 35.1,\n",
              "       35.2, 35.3, 35.4, 35.5, 35.6, 35.7, 35.8, 35.9, 36. , 36.1, 36.2,\n",
              "       36.3, 36.4, 36.5, 36.6, 36.7, 36.8, 36.9, 37. , 37.1, 37.2, 37.3,\n",
              "       37.4, 37.5, 37.6, 37.7, 37.8, 37.9, 38. , 38.1, 38.2, 38.3, 38.4,\n",
              "       38.5, 38.6, 38.7, 38.8, 38.9, 39. , 39.1, 39.2, 39.3, 39.4, 39.5,\n",
              "       39.6, 39.7, 39.8, 39.9, 40. , 40.1, 40.2, 40.3, 40.4, 40.5, 40.6,\n",
              "       40.7, 40.8, 40.9, 41. , 41.1, 41.2, 41.3, 41.4, 41.5, 41.6, 41.7,\n",
              "       41.8, 41.9, 42. , 42.1, 42.2, 42.3, 42.4, 42.5, 42.6, 42.7, 42.8,\n",
              "       42.9, 43. , 43.1, 43.2, 43.3, 43.4, 43.5, 43.6, 43.7, 43.8, 43.9,\n",
              "       44. , 44.1, 44.2, 44.3, 44.4, 44.5, 44.6, 44.7, 44.8, 44.9, 45. ,\n",
              "       45.1, 45.2, 45.3, 45.4, 45.5, 45.6, 45.7, 45.8, 45.9, 46. , 46.1,\n",
              "       46.2, 46.3, 46.4, 46.5, 46.6, 46.7, 46.8, 46.9, 47. , 47.1, 47.2,\n",
              "       47.3, 47.4, 47.5, 47.6, 47.7, 47.8, 47.9, 48. , 48.1, 48.2, 48.3,\n",
              "       48.4, 48.5, 48.6, 48.7, 48.8, 48.9, 49. , 49.1, 49.2, 49.3, 49.4,\n",
              "       49.5, 49.6, 49.7, 49.8, 49.9, 50. ])"
            ]
          },
          "metadata": {},
          "execution_count": 3
        }
      ]
    },
    {
      "cell_type": "code",
      "source": [
        "y = np.sin(x)"
      ],
      "metadata": {
        "id": "Ujv_7eGpGpAu"
      },
      "execution_count": 4,
      "outputs": []
    },
    {
      "cell_type": "code",
      "source": [
        "y"
      ],
      "metadata": {
        "colab": {
          "base_uri": "https://localhost:8080/"
        },
        "id": "YYwNfP0gHOKK",
        "outputId": "720de177-8e6e-4a70-f688-03c0088cb81e"
      },
      "execution_count": 5,
      "outputs": [
        {
          "output_type": "execute_result",
          "data": {
            "text/plain": [
              "array([ 0.00000000e+00,  9.98334166e-02,  1.98669331e-01,  2.95520207e-01,\n",
              "        3.89418342e-01,  4.79425539e-01,  5.64642473e-01,  6.44217687e-01,\n",
              "        7.17356091e-01,  7.83326910e-01,  8.41470985e-01,  8.91207360e-01,\n",
              "        9.32039086e-01,  9.63558185e-01,  9.85449730e-01,  9.97494987e-01,\n",
              "        9.99573603e-01,  9.91664810e-01,  9.73847631e-01,  9.46300088e-01,\n",
              "        9.09297427e-01,  8.63209367e-01,  8.08496404e-01,  7.45705212e-01,\n",
              "        6.75463181e-01,  5.98472144e-01,  5.15501372e-01,  4.27379880e-01,\n",
              "        3.34988150e-01,  2.39249329e-01,  1.41120008e-01,  4.15806624e-02,\n",
              "       -5.83741434e-02, -1.57745694e-01, -2.55541102e-01, -3.50783228e-01,\n",
              "       -4.42520443e-01, -5.29836141e-01, -6.11857891e-01, -6.87766159e-01,\n",
              "       -7.56802495e-01, -8.18277111e-01, -8.71575772e-01, -9.16165937e-01,\n",
              "       -9.51602074e-01, -9.77530118e-01, -9.93691004e-01, -9.99923258e-01,\n",
              "       -9.96164609e-01, -9.82452613e-01, -9.58924275e-01, -9.25814682e-01,\n",
              "       -8.83454656e-01, -8.32267442e-01, -7.72764488e-01, -7.05540326e-01,\n",
              "       -6.31266638e-01, -5.50685543e-01, -4.64602179e-01, -3.73876665e-01,\n",
              "       -2.79415498e-01, -1.82162504e-01, -8.30894028e-02,  1.68139005e-02,\n",
              "        1.16549205e-01,  2.15119988e-01,  3.11541364e-01,  4.04849921e-01,\n",
              "        4.94113351e-01,  5.78439764e-01,  6.56986599e-01,  7.28969040e-01,\n",
              "        7.93667864e-01,  8.50436621e-01,  8.98708096e-01,  9.37999977e-01,\n",
              "        9.67919672e-01,  9.88168234e-01,  9.98543345e-01,  9.98941342e-01,\n",
              "        9.89358247e-01,  9.69889811e-01,  9.40730557e-01,  9.02171834e-01,\n",
              "        8.54598908e-01,  7.98487113e-01,  7.34397098e-01,  6.62969230e-01,\n",
              "        5.84917193e-01,  5.01020856e-01,  4.12118485e-01,  3.19098362e-01,\n",
              "        2.22889914e-01,  1.24454424e-01,  2.47754255e-02, -7.51511205e-02,\n",
              "       -1.74326781e-01, -2.71760626e-01, -3.66479129e-01, -4.57535894e-01,\n",
              "       -5.44021111e-01, -6.25070649e-01, -6.99874688e-01, -7.67685810e-01,\n",
              "       -8.27826469e-01, -8.79695760e-01, -9.22775422e-01, -9.56635016e-01,\n",
              "       -9.80936230e-01, -9.95436253e-01, -9.99990207e-01, -9.94552588e-01,\n",
              "       -9.79177729e-01, -9.54019250e-01, -9.19328526e-01, -8.75452175e-01,\n",
              "       -8.22828595e-01, -7.61983584e-01, -6.93525085e-01, -6.18137112e-01,\n",
              "       -5.36572918e-01, -4.49647465e-01, -3.58229282e-01, -2.63231791e-01,\n",
              "       -1.65604175e-01, -6.63218974e-02,  3.36230472e-02,  1.33232041e-01,\n",
              "        2.31509825e-01,  3.27474439e-01,  4.20167037e-01,  5.08661464e-01,\n",
              "        5.92073515e-01,  6.69569762e-01,  7.40375890e-01,  8.03784427e-01,\n",
              "        8.59161815e-01,  9.05954742e-01,  9.43695669e-01,  9.72007501e-01,\n",
              "        9.90607356e-01,  9.99309389e-01,  9.98026653e-01,  9.86771964e-01,\n",
              "        9.65657777e-01,  9.34895056e-01,  8.94791172e-01,  8.45746831e-01,\n",
              "        7.88252067e-01,  7.22881350e-01,  6.50287840e-01,  5.71196870e-01,\n",
              "        4.86398689e-01,  3.96740573e-01,  3.03118357e-01,  2.06467482e-01,\n",
              "        1.07753652e-01,  7.96318379e-03, -9.19068502e-02, -1.90858581e-01,\n",
              "       -2.87903317e-01, -3.82071417e-01, -4.72421986e-01, -5.58052271e-01,\n",
              "       -6.38106682e-01, -7.11785342e-01, -7.78352079e-01, -8.37141778e-01,\n",
              "       -8.87567034e-01, -9.29124013e-01, -9.61397492e-01, -9.84065005e-01,\n",
              "       -9.96900066e-01, -9.99774431e-01, -9.92659380e-01, -9.75626005e-01,\n",
              "       -9.48844498e-01, -9.12582450e-01, -8.67202179e-01, -8.13157112e-01,\n",
              "       -7.50987247e-01, -6.81313766e-01, -6.04832822e-01, -5.22308590e-01,\n",
              "       -4.34565622e-01, -3.42480618e-01, -2.46973662e-01, -1.48999026e-01,\n",
              "       -4.95356409e-02,  5.04226878e-02,  1.49877210e-01,  2.47834208e-01,\n",
              "        3.43314929e-01,  4.35365360e-01,  5.23065765e-01,  6.05539870e-01,\n",
              "        6.81963620e-01,  7.51573415e-01,  8.13673738e-01,  8.67644101e-01,\n",
              "        9.12945251e-01,  9.49124554e-01,  9.75820518e-01,  9.92766406e-01,\n",
              "        9.99792900e-01,  9.96829794e-01,  9.83906695e-01,  9.61152725e-01,\n",
              "        9.28795234e-01,  8.87157529e-01,  8.36655639e-01,  7.77794162e-01,\n",
              "        7.11161223e-01,  6.37422596e-01,  5.57315054e-01,  4.71639003e-01,\n",
              "        3.81250492e-01,  2.87052651e-01,  1.89986676e-01,  9.10224162e-02,\n",
              "       -8.85130929e-03, -1.08636595e-01, -2.07336421e-01, -3.03964609e-01,\n",
              "       -3.97555683e-01, -4.87174512e-01, -5.71925655e-01, -6.50962306e-01,\n",
              "       -7.23494756e-01, -7.88798286e-01, -8.46220404e-01, -8.95187368e-01,\n",
              "       -9.35209915e-01, -9.65888154e-01, -9.86915558e-01, -9.98082028e-01,\n",
              "       -9.99275992e-01, -9.90485521e-01, -9.71798446e-01, -9.43401482e-01,\n",
              "       -9.05578362e-01, -8.58707003e-01, -8.03255727e-01, -7.39778585e-01,\n",
              "       -6.68909820e-01, -5.91357530e-01, -5.07896590e-01, -4.19360916e-01,\n",
              "       -3.26635126e-01, -2.30645706e-01, -1.32351750e-01, -3.27353793e-02,\n",
              "        6.72080725e-02,  1.66480004e-01,  2.64088521e-01,  3.59058354e-01,\n",
              "        4.50440594e-01,  5.37322181e-01,  6.18835022e-01,  6.94164668e-01,\n",
              "        7.62558450e-01,  8.23333001e-01,  8.75881080e-01,  9.19677645e-01,\n",
              "        9.54285094e-01,  9.79357643e-01,  9.94644774e-01,  9.99993743e-01,\n",
              "        9.95351105e-01,  9.80763248e-01,  9.56375928e-01,  9.22432817e-01,\n",
              "        8.79273062e-01,  8.27327901e-01,  7.67116353e-01,  6.99240032e-01,\n",
              "        6.24377135e-01,  5.43275669e-01,  4.56745972e-01,  3.65652620e-01,\n",
              "        2.70905788e-01,  1.73452155e-01,  7.42654456e-02, -2.56632999e-02,\n",
              "       -1.25335626e-01, -2.23755640e-01, -3.19939962e-01, -4.12927549e-01,\n",
              "       -5.01789301e-01, -5.85637340e-01, -6.63633884e-01, -7.34999618e-01,\n",
              "       -7.99021479e-01, -8.55059781e-01, -9.02554608e-01, -9.41031408e-01,\n",
              "       -9.70105734e-01, -9.89487083e-01, -9.98981805e-01, -9.98495031e-01,\n",
              "       -9.88031624e-01, -9.67696132e-01, -9.37691740e-01, -8.98318243e-01,\n",
              "       -8.49969046e-01, -7.93127239e-01, -7.28360768e-01, -6.56316756e-01,\n",
              "       -5.77715044e-01, -4.93340995e-01, -4.04037645e-01, -3.10697285e-01,\n",
              "       -2.14252540e-01, -1.15667055e-01, -1.59258626e-02,  8.39744557e-02,\n",
              "        1.83035729e-01,  2.80268170e-01,  3.74700264e-01,  4.65388476e-01,\n",
              "        5.51426681e-01,  6.31955213e-01,  7.06169457e-01,  7.73327890e-01,\n",
              "        8.32759485e-01,  8.83870424e-01,  9.26150021e-01,  9.59175833e-01,\n",
              "        9.82617877e-01,  9.96241929e-01,  9.99911860e-01,  9.93591003e-01,\n",
              "        9.77342512e-01,  9.51328739e-01,  9.15809603e-01,  8.71140000e-01,\n",
              "        8.17766255e-01,  7.56221659e-01,  6.87121146e-01,  6.11155146e-01,\n",
              "        5.29082686e-01,  4.41723807e-01,  3.49951369e-01,  2.54682333e-01,\n",
              "        1.56868595e-01,  5.74874781e-02, -4.24680347e-02, -1.41999221e-01,\n",
              "       -2.40111598e-01, -3.35824859e-01, -4.28182669e-01, -5.16262220e-01,\n",
              "       -5.99183449e-01, -6.76117835e-01, -7.46296676e-01, -8.09018766e-01,\n",
              "       -8.63657409e-01, -9.09666672e-01, -9.46586846e-01, -9.74049038e-01,\n",
              "       -9.91778853e-01, -9.99599143e-01, -9.97431767e-01, -9.85298384e-01,\n",
              "       -9.63320224e-01, -9.31716888e-01, -8.90804144e-01, -8.40990780e-01,\n",
              "       -7.82774514e-01, -7.16737023e-01, -6.43538133e-01, -5.63909223e-01,\n",
              "       -4.78645919e-01, -3.88600142e-01, -2.94671602e-01, -1.97798800e-01,\n",
              "       -9.89496576e-02,  8.88156806e-04,  1.00717097e-01,  1.99539705e-01,\n",
              "        2.96368579e-01,  3.90236235e-01,  4.80204780e-01,  5.65375278e-01,\n",
              "        6.44896733e-01,  7.17974593e-01,  7.83878688e-01,  8.41950526e-01,\n",
              "        8.91609873e-01,  9.32360549e-01,  9.63795386e-01,  9.85600299e-01,\n",
              "        9.97557419e-01,  9.99547275e-01,  9.91549985e-01,  9.73645456e-01,\n",
              "        9.46012583e-01,  9.08927465e-01,  8.62760644e-01,  8.07973404e-01,\n",
              "        7.45113160e-01,  6.74807993e-01,  5.97760367e-01,  5.14740117e-01,\n",
              "        4.26576754e-01,  3.34151177e-01,  2.38386872e-01,  1.40240684e-01,\n",
              "        4.06932573e-02, -5.92607627e-02, -1.58622669e-01, -2.56399670e-01,\n",
              "       -3.51614810e-01, -4.43316731e-01, -5.30589178e-01, -6.12560153e-01,\n",
              "       -6.88410630e-01, -7.57382735e-01, -8.18787322e-01, -8.72010857e-01,\n",
              "       -9.16521548e-01, -9.51874658e-01, -9.77716952e-01, -9.93790221e-01,\n",
              "       -9.99933866e-01, -9.96086503e-01, -9.82286573e-01, -9.58671960e-01,\n",
              "       -9.25478614e-01, -8.83038191e-01, -8.31774743e-01, -7.72200476e-01,\n",
              "       -7.04910637e-01, -6.30577565e-01, -5.49943970e-01, -4.63815516e-01,\n",
              "       -3.73052771e-01, -2.78562606e-01, -1.81289136e-01, -8.22042844e-02,\n",
              "        1.77019251e-02,  1.17431263e-01,  2.15987266e-01,  3.12385196e-01,\n",
              "        4.05661877e-01,  4.94885318e-01,  5.79164028e-01,  6.57655923e-01,\n",
              "        7.29576737e-01,  7.94207862e-01,  8.50903525e-01,  8.99097240e-01,\n",
              "        9.38307473e-01,  9.68142448e-01,  9.88304064e-01,  9.98590872e-01,\n",
              "        9.98900091e-01,  9.89228630e-01,  9.69673123e-01,  9.40428963e-01,\n",
              "        9.01788348e-01,  8.54137361e-01,  7.97952117e-01,  7.33793998e-01,\n",
              "        6.62304053e-01,  5.84196584e-01,  5.00252017e-01,  4.11309096e-01,\n",
              "        3.18256511e-01,  2.22024012e-01,  1.23573123e-01,  2.38875315e-02,\n",
              "       -7.60367361e-02, -1.75201270e-01, -2.72615250e-01, -3.67305349e-01,\n",
              "       -4.58325454e-01, -5.44766123e-01, -6.25763669e-01, -7.00508791e-01,\n",
              "       -7.68254661e-01, -8.28324385e-01, -8.80117764e-01, -9.23117298e-01,\n",
              "       -9.56893350e-01, -9.81108439e-01, -9.95520616e-01, -9.99985881e-01,\n",
              "       -9.94459618e-01, -9.78997043e-01, -9.53752653e-01, -9.18978681e-01,\n",
              "       -8.75022579e-01, -8.22323540e-01, -7.61408116e-01, -6.92884954e-01,\n",
              "       -6.17438715e-01, -5.35823232e-01, -4.48853980e-01, -3.57399928e-01,\n",
              "       -2.62374854e-01])"
            ]
          },
          "metadata": {},
          "execution_count": 5
        }
      ]
    },
    {
      "cell_type": "code",
      "source": [
        "plt.plot(x,y)"
      ],
      "metadata": {
        "colab": {
          "base_uri": "https://localhost:8080/",
          "height": 447
        },
        "id": "8SWislJfHOkC",
        "outputId": "63f9f82a-64df-4ce1-c262-0247dda3c628"
      },
      "execution_count": 6,
      "outputs": [
        {
          "output_type": "execute_result",
          "data": {
            "text/plain": [
              "[<matplotlib.lines.Line2D at 0x7be9ab560fa0>]"
            ]
          },
          "metadata": {},
          "execution_count": 6
        },
        {
          "output_type": "display_data",
          "data": {
            "text/plain": [
              "<Figure size 640x480 with 1 Axes>"
            ],
            "image/png": "[encoded data removed]"
          },
          "metadata": {}
        }
      ]
    },
    {
      "cell_type": "code",
      "source": [
        "df = pd.DataFrame(data=y,index=x,columns=['Sine'])"
      ],
      "metadata": {
        "id": "WgmP3x9WHTQd"
      },
      "execution_count": 7,
      "outputs": []
    },
    {
      "cell_type": "code",
      "source": [
        "df"
      ],
      "metadata": {
        "colab": {
          "base_uri": "https://localhost:8080/",
          "height": 424
        },
        "id": "EKisnmduHjA9",
        "outputId": "273f81e0-5fea-4d36-823a-19be94f21e15"
      },
      "execution_count": 8,
      "outputs": [
        {
          "output_type": "execute_result",
          "data": {
            "text/plain": [
              "          Sine\n",
              "0.0   0.000000\n",
              "0.1   0.099833\n",
              "0.2   0.198669\n",
              "0.3   0.295520\n",
              "0.4   0.389418\n",
              "...        ...\n",
              "49.6 -0.617439\n",
              "49.7 -0.535823\n",
              "49.8 -0.448854\n",
              "49.9 -0.357400\n",
              "50.0 -0.262375\n",
              "\n",
              "[501 rows x 1 columns]"
            ],
            "text/html": [
              "\n",
              "  <div id=\"df-1ee10bc9-af17-4674-8478-fe61e2e27f43\" class=\"colab-df-container\">\n",
              "    <div>\n",
              "<style scoped>\n",
              "    .dataframe tbody tr th:only-of-type {\n",
              "        vertical-align: middle;\n",
              "    }\n",
              "\n",
              "    .dataframe tbody tr th {\n",
              "        vertical-align: top;\n",
              "    }\n",
              "\n",
              "    .dataframe thead th {\n",
              "        text-align: right;\n",
              "    }\n",
              "</style>\n",
              "<table border=\"1\" class=\"dataframe\">\n",
              "  <thead>\n",
              "    <tr style=\"text-align: right;\">\n",
              "      <th></th>\n",
              "      <th>Sine</th>\n",
              "    </tr>\n",
              "  </thead>\n",
              "  <tbody>\n",
              "    <tr>\n",
              "      <th>0.0</th>\n",
              "      <td>0.000000</td>\n",
              "    </tr>\n",
              "    <tr>\n",
              "      <th>0.1</th>\n",
              "      <td>0.099833</td>\n",
              "    </tr>\n",
              "    <tr>\n",
              "      <th>0.2</th>\n",
              "      <td>0.198669</td>\n",
              "    </tr>\n",
              "    <tr>\n",
              "      <th>0.3</th>\n",
              "      <td>0.295520</td>\n",
              "    </tr>\n",
              "    <tr>\n",
              "      <th>0.4</th>\n",
              "      <td>0.389418</td>\n",
              "    </tr>\n",
              "    <tr>\n",
              "      <th>...</th>\n",
              "      <td>...</td>\n",
              "    </tr>\n",
              "    <tr>\n",
              "      <th>49.6</th>\n",
              "      <td>-0.617439</td>\n",
              "    </tr>\n",
              "    <tr>\n",
              "      <th>49.7</th>\n",
              "      <td>-0.535823</td>\n",
              "    </tr>\n",
              "    <tr>\n",
              "      <th>49.8</th>\n",
              "      <td>-0.448854</td>\n",
              "    </tr>\n",
              "    <tr>\n",
              "      <th>49.9</th>\n",
              "      <td>-0.357400</td>\n",
              "    </tr>\n",
              "    <tr>\n",
              "      <th>50.0</th>\n",
              "      <td>-0.262375</td>\n",
              "    </tr>\n",
              "  </tbody>\n",
              "</table>\n",
              "<p>501 rows × 1 columns</p>\n",
              "</div>\n",
              "    <div class=\"colab-df-buttons\">\n",
              "\n",
              "  <div class=\"colab-df-container\">\n",
              "    <button class=\"colab-df-convert\" onclick=\"convertToInteractive('df-1ee10bc9-af17-4674-8478-fe61e2e27f43')\"\n",
              "            title=\"Convert this dataframe to an interactive table.\"\n",
              "            style=\"display:none;\">\n",
              "\n",
              "  <svg xmlns=\"http://www.w3.org/2000/svg\" height=\"24px\" viewBox=\"0 -960 960 960\">\n",
              "    <path d=\"M120-120v-720h720v720H120Zm60-500h600v-160H180v160Zm220 220h160v-160H400v160Zm0 220h160v-160H400v160ZM180-400h160v-160H180v160Zm440 0h160v-160H620v160ZM180-180h160v-160H180v160Zm440 0h160v-160H620v160Z\"/>\n",
              "  </svg>\n",
              "    </button>\n",
              "\n",
              "  <style>\n",
              "    .colab-df-container {\n",
              "      display:flex;\n",
              "      gap: 12px;\n",
              "    }\n",
              "\n",
              "    .colab-df-convert {\n",
              "      background-color: #E8F0FE;\n",
              "      border: none;\n",
              "      border-radius: 50%;\n",
              "      cursor: pointer;\n",
              "      display: none;\n",
              "      fill: #1967D2;\n",
              "      height: 32px;\n",
              "      padding: 0 0 0 0;\n",
              "      width: 32px;\n",
              "    }\n",
              "\n",
              "    .colab-df-convert:hover {\n",
              "      background-color: #E2EBFA;\n",
              "      box-shadow: 0px 1px 2px rgba(60, 64, 67, 0.3), 0px 1px 3px 1px rgba(60, 64, 67, 0.15);\n",
              "      fill: #174EA6;\n",
              "    }\n",
              "\n",
              "    .colab-df-buttons div {\n",
              "      margin-bottom: 4px;\n",
              "    }\n",
              "\n",
              "    [theme=dark] .colab-df-convert {\n",
              "      background-color: #3B4455;\n",
              "      fill: #D2E3FC;\n",
              "    }\n",
              "\n",
              "    [theme=dark] .colab-df-convert:hover {\n",
              "      background-color: #434B5C;\n",
              "      box-shadow: 0px 1px 3px 1px rgba(0, 0, 0, 0.15);\n",
              "      filter: drop-shadow(0px 1px 2px rgba(0, 0, 0, 0.3));\n",
              "      fill: #FFFFFF;\n",
              "    }\n",
              "  </style>\n",
              "\n",
              "    <script>\n",
              "      const buttonEl =\n",
              "        document.querySelector('#df-1ee10bc9-af17-4674-8478-fe61e2e27f43 button.colab-df-convert');\n",
              "      buttonEl.style.display =\n",
              "        google.colab.kernel.accessAllowed ? 'block' : 'none';\n",
              "\n",
              "      async function convertToInteractive(key) {\n",
              "        const element = document.querySelector('#df-1ee10bc9-af17-4674-8478-fe61e2e27f43');\n",
              "        const dataTable =\n",
              "          await google.colab.kernel.invokeFunction('convertToInteractive',\n",
              "                                                    [key], {});\n",
              "        if (!dataTable) return;\n",
              "\n",
              "        const docLinkHtml = 'Like what you see? Visit the ' +\n",
              "          '<a target=\"_blank\" href=https://colab.research.google.com/notebooks/data_table.ipynb>data table notebook</a>'\n",
              "          + ' to learn more about interactive tables.';\n",
              "        element.innerHTML = '';\n",
              "        dataTable['output_type'] = 'display_data';\n",
              "        await google.colab.output.renderOutput(dataTable, element);\n",
              "        const docLink = document.createElement('div');\n",
              "        docLink.innerHTML = docLinkHtml;\n",
              "        element.appendChild(docLink);\n",
              "      }\n",
              "    </script>\n",
              "  </div>\n",
              "\n",
              "\n",
              "<div id=\"df-343ea2eb-e0e4-4fe3-9c81-739035aec28e\">\n",
              "  <button class=\"colab-df-quickchart\" onclick=\"quickchart('df-343ea2eb-e0e4-4fe3-9c81-739035aec28e')\"\n",
              "            title=\"Suggest charts\"\n",
              "            style=\"display:none;\">\n",
              "\n",
              "<svg xmlns=\"http://www.w3.org/2000/svg\" height=\"24px\"viewBox=\"0 0 24 24\"\n",
              "     width=\"24px\">\n",
              "    <g>\n",
              "        <path d=\"M19 3H5c-1.1 0-2 .9-2 2v14c0 1.1.9 2 2 2h14c1.1 0 2-.9 2-2V5c0-1.1-.9-2-2-2zM9 17H7v-7h2v7zm4 0h-2V7h2v10zm4 0h-2v-4h2v4z\"/>\n",
              "    </g>\n",
              "</svg>\n",
              "  </button>\n",
              "\n",
              "<style>\n",
              "  .colab-df-quickchart {\n",
              "      --bg-color: #E8F0FE;\n",
              "      --fill-color: #1967D2;\n",
              "      --hover-bg-color: #E2EBFA;\n",
              "      --hover-fill-color: #174EA6;\n",
              "      --disabled-fill-color: #AAA;\n",
              "      --disabled-bg-color: #DDD;\n",
              "  }\n",
              "\n",
              "  [theme=dark] .colab-df-quickchart {\n",
              "      --bg-color: #3B4455;\n",
              "      --fill-color: #D2E3FC;\n",
              "      --hover-bg-color: #434B5C;\n",
              "      --hover-fill-color: #FFFFFF;\n",
              "      --disabled-bg-color: #3B4455;\n",
              "      --disabled-fill-color: #666;\n",
              "  }\n",
              "\n",
              "  .colab-df-quickchart {\n",
              "    background-color: var(--bg-color);\n",
              "    border: none;\n",
              "    border-radius: 50%;\n",
              "    cursor: pointer;\n",
              "    display: none;\n",
              "    fill: var(--fill-color);\n",
              "    height: 32px;\n",
              "    padding: 0;\n",
              "    width: 32px;\n",
              "  }\n",
              "\n",
              "  .colab-df-quickchart:hover {\n",
              "    background-color: var(--hover-bg-color);\n",
              "    box-shadow: 0 1px 2px rgba(60, 64, 67, 0.3), 0 1px 3px 1px rgba(60, 64, 67, 0.15);\n",
              "    fill: var(--button-hover-fill-color);\n",
              "  }\n",
              "\n",
              "  .colab-df-quickchart-complete:disabled,\n",
              "  .colab-df-quickchart-complete:disabled:hover {\n",
              "    background-color: var(--disabled-bg-color);\n",
              "    fill: var(--disabled-fill-color);\n",
              "    box-shadow: none;\n",
              "  }\n",
              "\n",
              "  .colab-df-spinner {\n",
              "    border: 2px solid var(--fill-color);\n",
              "    border-color: transparent;\n",
              "    border-bottom-color: var(--fill-color);\n",
              "    animation:\n",
              "      spin 1s steps(1) infinite;\n",
              "  }\n",
              "\n",
              "  @keyframes spin {\n",
              "    0% {\n",
              "      border-color: transparent;\n",
              "      border-bottom-color: var(--fill-color);\n",
              "      border-left-color: var(--fill-color);\n",
              "    }\n",
              "    20% {\n",
              "      border-color: transparent;\n",
              "      border-left-color: var(--fill-color);\n",
              "      border-top-color: var(--fill-color);\n",
              "    }\n",
              "    30% {\n",
              "      border-color: transparent;\n",
              "      border-left-color: var(--fill-color);\n",
              "      border-top-color: var(--fill-color);\n",
              "      border-right-color: var(--fill-color);\n",
              "    }\n",
              "    40% {\n",
              "      border-color: transparent;\n",
              "      border-right-color: var(--fill-color);\n",
              "      border-top-color: var(--fill-color);\n",
              "    }\n",
              "    60% {\n",
              "      border-color: transparent;\n",
              "      border-right-color: var(--fill-color);\n",
              "    }\n",
              "    80% {\n",
              "      border-color: transparent;\n",
              "      border-right-color: var(--fill-color);\n",
              "      border-bottom-color: var(--fill-color);\n",
              "    }\n",
              "    90% {\n",
              "      border-color: transparent;\n",
              "      border-bottom-color: var(--fill-color);\n",
              "    }\n",
              "  }\n",
              "</style>\n",
              "\n",
              "  <script>\n",
              "    async function quickchart(key) {\n",
              "      const quickchartButtonEl =\n",
              "        document.querySelector('#' + key + ' button');\n",
              "      quickchartButtonEl.disabled = true;  // To prevent multiple clicks.\n",
              "      quickchartButtonEl.classList.add('colab-df-spinner');\n",
              "      try {\n",
              "        const charts = await google.colab.kernel.invokeFunction(\n",
              "            'suggestCharts', [key], {});\n",
              "      } catch (error) {\n",
              "        console.error('Error during call to suggestCharts:', error);\n",
              "      }\n",
              "      quickchartButtonEl.classList.remove('colab-df-spinner');\n",
              "      quickchartButtonEl.classList.add('colab-df-quickchart-complete');\n",
              "    }\n",
              "    (() => {\n",
              "      let quickchartButtonEl =\n",
              "        document.querySelector('#df-343ea2eb-e0e4-4fe3-9c81-739035aec28e button');\n",
              "      quickchartButtonEl.style.display =\n",
              "        google.colab.kernel.accessAllowed ? 'block' : 'none';\n",
              "    })();\n",
              "  </script>\n",
              "</div>\n",
              "    </div>\n",
              "  </div>\n"
            ]
          },
          "metadata": {},
          "execution_count": 8
        }
      ]
    },
    {
      "cell_type": "markdown",
      "source": [
        "# Train test split"
      ],
      "metadata": {
        "id": "xAtkXh94JCsd"
      }
    },
    {
      "cell_type": "code",
      "source": [
        "len(df)"
      ],
      "metadata": {
        "colab": {
          "base_uri": "https://localhost:8080/"
        },
        "id": "OhF-JTnuHjnd",
        "outputId": "4258be1f-2bd7-41f0-ca97-3788611a153d"
      },
      "execution_count": 9,
      "outputs": [
        {
          "output_type": "execute_result",
          "data": {
            "text/plain": [
              "501"
            ]
          },
          "metadata": {},
          "execution_count": 9
        }
      ]
    },
    {
      "cell_type": "code",
      "source": [
        "test_percent = 0.1"
      ],
      "metadata": {
        "id": "NQ-pAiIdJHVz"
      },
      "execution_count": 10,
      "outputs": []
    },
    {
      "cell_type": "code",
      "source": [
        "len(df)*test_percent"
      ],
      "metadata": {
        "colab": {
          "base_uri": "https://localhost:8080/"
        },
        "id": "sj3wAYxuJM4u",
        "outputId": "142b2c53-fd37-4462-e2a7-644178edd7f7"
      },
      "execution_count": 11,
      "outputs": [
        {
          "output_type": "execute_result",
          "data": {
            "text/plain": [
              "50.1"
            ]
          },
          "metadata": {},
          "execution_count": 11
        }
      ]
    },
    {
      "cell_type": "code",
      "source": [
        "test_point = np.round(len(df)*test_percent)"
      ],
      "metadata": {
        "id": "kbYBp4D8JQ7Q"
      },
      "execution_count": 12,
      "outputs": []
    },
    {
      "cell_type": "code",
      "source": [
        "test_point"
      ],
      "metadata": {
        "colab": {
          "base_uri": "https://localhost:8080/"
        },
        "id": "xYPN8BOHJzYz",
        "outputId": "fa764957-0225-4b83-de20-8eb731ebb838"
      },
      "execution_count": 13,
      "outputs": [
        {
          "output_type": "execute_result",
          "data": {
            "text/plain": [
              "50.0"
            ]
          },
          "metadata": {},
          "execution_count": 13
        }
      ]
    },
    {
      "cell_type": "code",
      "source": [
        "test_ind = int(len(df)-test_point)"
      ],
      "metadata": {
        "id": "_YBAwnycJ1VE"
      },
      "execution_count": 14,
      "outputs": []
    },
    {
      "cell_type": "code",
      "source": [
        "test_ind"
      ],
      "metadata": {
        "colab": {
          "base_uri": "https://localhost:8080/"
        },
        "id": "cA0OQAb9J6ee",
        "outputId": "7ec8bbfe-9e55-40de-9ac7-501b032eeebd"
      },
      "execution_count": 15,
      "outputs": [
        {
          "output_type": "execute_result",
          "data": {
            "text/plain": [
              "451"
            ]
          },
          "metadata": {},
          "execution_count": 15
        }
      ]
    },
    {
      "cell_type": "code",
      "source": [
        "train = df.iloc[:test_ind]"
      ],
      "metadata": {
        "id": "a-KEGpy2J7rO"
      },
      "execution_count": 16,
      "outputs": []
    },
    {
      "cell_type": "code",
      "source": [
        "test = df.iloc[test_ind:]"
      ],
      "metadata": {
        "id": "0gqMOmTyKy8t"
      },
      "execution_count": 17,
      "outputs": []
    },
    {
      "cell_type": "code",
      "source": [
        "train"
      ],
      "metadata": {
        "colab": {
          "base_uri": "https://localhost:8080/",
          "height": 424
        },
        "id": "0dB93CI4K2eO",
        "outputId": "e22b58f1-e6d0-4810-f04d-4fbd4eab169b"
      },
      "execution_count": 18,
      "outputs": [
        {
          "output_type": "execute_result",
          "data": {
            "text/plain": [
              "          Sine\n",
              "0.0   0.000000\n",
              "0.1   0.099833\n",
              "0.2   0.198669\n",
              "0.3   0.295520\n",
              "0.4   0.389418\n",
              "...        ...\n",
              "44.6  0.579164\n",
              "44.7  0.657656\n",
              "44.8  0.729577\n",
              "44.9  0.794208\n",
              "45.0  0.850904\n",
              "\n",
              "[451 rows x 1 columns]"
            ],
            "text/html": [
              "\n",
              "  <div id=\"df-cb56de51-90ea-42bc-a29d-2f6cf30f72e0\" class=\"colab-df-container\">\n",
              "    <div>\n",
              "<style scoped>\n",
              "    .dataframe tbody tr th:only-of-type {\n",
              "        vertical-align: middle;\n",
              "    }\n",
              "\n",
              "    .dataframe tbody tr th {\n",
              "        vertical-align: top;\n",
              "    }\n",
              "\n",
              "    .dataframe thead th {\n",
              "        text-align: right;\n",
              "    }\n",
              "</style>\n",
              "<table border=\"1\" class=\"dataframe\">\n",
              "  <thead>\n",
              "    <tr style=\"text-align: right;\">\n",
              "      <th></th>\n",
              "      <th>Sine</th>\n",
              "    </tr>\n",
              "  </thead>\n",
              "  <tbody>\n",
              "    <tr>\n",
              "      <th>0.0</th>\n",
              "      <td>0.000000</td>\n",
              "    </tr>\n",
              "    <tr>\n",
              "      <th>0.1</th>\n",
              "      <td>0.099833</td>\n",
              "    </tr>\n",
              "    <tr>\n",
              "      <th>0.2</th>\n",
              "      <td>0.198669</td>\n",
              "    </tr>\n",
              "    <tr>\n",
              "      <th>0.3</th>\n",
              "      <td>0.295520</td>\n",
              "    </tr>\n",
              "    <tr>\n",
              "      <th>0.4</th>\n",
              "      <td>0.389418</td>\n",
              "    </tr>\n",
              "    <tr>\n",
              "      <th>...</th>\n",
              "      <td>...</td>\n",
              "    </tr>\n",
              "    <tr>\n",
              "      <th>44.6</th>\n",
              "      <td>0.579164</td>\n",
              "    </tr>\n",
              "    <tr>\n",
              "      <th>44.7</th>\n",
              "      <td>0.657656</td>\n",
              "    </tr>\n",
              "    <tr>\n",
              "      <th>44.8</th>\n",
              "      <td>0.729577</td>\n",
              "    </tr>\n",
              "    <tr>\n",
              "      <th>44.9</th>\n",
              "      <td>0.794208</td>\n",
              "    </tr>\n",
              "    <tr>\n",
              "      <th>45.0</th>\n",
              "      <td>0.850904</td>\n",
              "    </tr>\n",
              "  </tbody>\n",
              "</table>\n",
              "<p>451 rows × 1 columns</p>\n",
              "</div>\n",
              "    <div class=\"colab-df-buttons\">\n",
              "\n",
              "  <div class=\"colab-df-container\">\n",
              "    <button class=\"colab-df-convert\" onclick=\"convertToInteractive('df-cb56de51-90ea-42bc-a29d-2f6cf30f72e0')\"\n",
              "            title=\"Convert this dataframe to an interactive table.\"\n",
              "            style=\"display:none;\">\n",
              "\n",
              "  <svg xmlns=\"http://www.w3.org/2000/svg\" height=\"24px\" viewBox=\"0 -960 960 960\">\n",
              "    <path d=\"M120-120v-720h720v720H120Zm60-500h600v-160H180v160Zm220 220h160v-160H400v160Zm0 220h160v-160H400v160ZM180-400h160v-160H180v160Zm440 0h160v-160H620v160ZM180-180h160v-160H180v160Zm440 0h160v-160H620v160Z\"/>\n",
              "  </svg>\n",
              "    </button>\n",
              "\n",
              "  <style>\n",
              "    .colab-df-container {\n",
              "      display:flex;\n",
              "      gap: 12px;\n",
              "    }\n",
              "\n",
              "    .colab-df-convert {\n",
              "      background-color: #E8F0FE;\n",
              "      border: none;\n",
              "      border-radius: 50%;\n",
              "      cursor: pointer;\n",
              "      display: none;\n",
              "      fill: #1967D2;\n",
              "      height: 32px;\n",
              "      padding: 0 0 0 0;\n",
              "      width: 32px;\n",
              "    }\n",
              "\n",
              "    .colab-df-convert:hover {\n",
              "      background-color: #E2EBFA;\n",
              "      box-shadow: 0px 1px 2px rgba(60, 64, 67, 0.3), 0px 1px 3px 1px rgba(60, 64, 67, 0.15);\n",
              "      fill: #174EA6;\n",
              "    }\n",
              "\n",
              "    .colab-df-buttons div {\n",
              "      margin-bottom: 4px;\n",
              "    }\n",
              "\n",
              "    [theme=dark] .colab-df-convert {\n",
              "      background-color: #3B4455;\n",
              "      fill: #D2E3FC;\n",
              "    }\n",
              "\n",
              "    [theme=dark] .colab-df-convert:hover {\n",
              "      background-color: #434B5C;\n",
              "      box-shadow: 0px 1px 3px 1px rgba(0, 0, 0, 0.15);\n",
              "      filter: drop-shadow(0px 1px 2px rgba(0, 0, 0, 0.3));\n",
              "      fill: #FFFFFF;\n",
              "    }\n",
              "  </style>\n",
              "\n",
              "    <script>\n",
              "      const buttonEl =\n",
              "        document.querySelector('#df-cb56de51-90ea-42bc-a29d-2f6cf30f72e0 button.colab-df-convert');\n",
              "      buttonEl.style.display =\n",
              "        google.colab.kernel.accessAllowed ? 'block' : 'none';\n",
              "\n",
              "      async function convertToInteractive(key) {\n",
              "        const element = document.querySelector('#df-cb56de51-90ea-42bc-a29d-2f6cf30f72e0');\n",
              "        const dataTable =\n",
              "          await google.colab.kernel.invokeFunction('convertToInteractive',\n",
              "                                                    [key], {});\n",
              "        if (!dataTable) return;\n",
              "\n",
              "        const docLinkHtml = 'Like what you see? Visit the ' +\n",
              "          '<a target=\"_blank\" href=https://colab.research.google.com/notebooks/data_table.ipynb>data table notebook</a>'\n",
              "          + ' to learn more about interactive tables.';\n",
              "        element.innerHTML = '';\n",
              "        dataTable['output_type'] = 'display_data';\n",
              "        await google.colab.output.renderOutput(dataTable, element);\n",
              "        const docLink = document.createElement('div');\n",
              "        docLink.innerHTML = docLinkHtml;\n",
              "        element.appendChild(docLink);\n",
              "      }\n",
              "    </script>\n",
              "  </div>\n",
              "\n",
              "\n",
              "<div id=\"df-ebc260d3-5461-4d62-ab43-1eb99094bc25\">\n",
              "  <button class=\"colab-df-quickchart\" onclick=\"quickchart('df-ebc260d3-5461-4d62-ab43-1eb99094bc25')\"\n",
              "            title=\"Suggest charts\"\n",
              "            style=\"display:none;\">\n",
              "\n",
              "<svg xmlns=\"http://www.w3.org/2000/svg\" height=\"24px\"viewBox=\"0 0 24 24\"\n",
              "     width=\"24px\">\n",
              "    <g>\n",
              "        <path d=\"M19 3H5c-1.1 0-2 .9-2 2v14c0 1.1.9 2 2 2h14c1.1 0 2-.9 2-2V5c0-1.1-.9-2-2-2zM9 17H7v-7h2v7zm4 0h-2V7h2v10zm4 0h-2v-4h2v4z\"/>\n",
              "    </g>\n",
              "</svg>\n",
              "  </button>\n",
              "\n",
              "<style>\n",
              "  .colab-df-quickchart {\n",
              "      --bg-color: #E8F0FE;\n",
              "      --fill-color: #1967D2;\n",
              "      --hover-bg-color: #E2EBFA;\n",
              "      --hover-fill-color: #174EA6;\n",
              "      --disabled-fill-color: #AAA;\n",
              "      --disabled-bg-color: #DDD;\n",
              "  }\n",
              "\n",
              "  [theme=dark] .colab-df-quickchart {\n",
              "      --bg-color: #3B4455;\n",
              "      --fill-color: #D2E3FC;\n",
              "      --hover-bg-color: #434B5C;\n",
              "      --hover-fill-color: #FFFFFF;\n",
              "      --disabled-bg-color: #3B4455;\n",
              "      --disabled-fill-color: #666;\n",
              "  }\n",
              "\n",
              "  .colab-df-quickchart {\n",
              "    background-color: var(--bg-color);\n",
              "    border: none;\n",
              "    border-radius: 50%;\n",
              "    cursor: pointer;\n",
              "    display: none;\n",
              "    fill: var(--fill-color);\n",
              "    height: 32px;\n",
              "    padding: 0;\n",
              "    width: 32px;\n",
              "  }\n",
              "\n",
              "  .colab-df-quickchart:hover {\n",
              "    background-color: var(--hover-bg-color);\n",
              "    box-shadow: 0 1px 2px rgba(60, 64, 67, 0.3), 0 1px 3px 1px rgba(60, 64, 67, 0.15);\n",
              "    fill: var(--button-hover-fill-color);\n",
              "  }\n",
              "\n",
              "  .colab-df-quickchart-complete:disabled,\n",
              "  .colab-df-quickchart-complete:disabled:hover {\n",
              "    background-color: var(--disabled-bg-color);\n",
              "    fill: var(--disabled-fill-color);\n",
              "    box-shadow: none;\n",
              "  }\n",
              "\n",
              "  .colab-df-spinner {\n",
              "    border: 2px solid var(--fill-color);\n",
              "    border-color: transparent;\n",
              "    border-bottom-color: var(--fill-color);\n",
              "    animation:\n",
              "      spin 1s steps(1) infinite;\n",
              "  }\n",
              "\n",
              "  @keyframes spin {\n",
              "    0% {\n",
              "      border-color: transparent;\n",
              "      border-bottom-color: var(--fill-color);\n",
              "      border-left-color: var(--fill-color);\n",
              "    }\n",
              "    20% {\n",
              "      border-color: transparent;\n",
              "      border-left-color: var(--fill-color);\n",
              "      border-top-color: var(--fill-color);\n",
              "    }\n",
              "    30% {\n",
              "      border-color: transparent;\n",
              "      border-left-color: var(--fill-color);\n",
              "      border-top-color: var(--fill-color);\n",
              "      border-right-color: var(--fill-color);\n",
              "    }\n",
              "    40% {\n",
              "      border-color: transparent;\n",
              "      border-right-color: var(--fill-color);\n",
              "      border-top-color: var(--fill-color);\n",
              "    }\n",
              "    60% {\n",
              "      border-color: transparent;\n",
              "      border-right-color: var(--fill-color);\n",
              "    }\n",
              "    80% {\n",
              "      border-color: transparent;\n",
              "      border-right-color: var(--fill-color);\n",
              "      border-bottom-color: var(--fill-color);\n",
              "    }\n",
              "    90% {\n",
              "      border-color: transparent;\n",
              "      border-bottom-color: var(--fill-color);\n",
              "    }\n",
              "  }\n",
              "</style>\n",
              "\n",
              "  <script>\n",
              "    async function quickchart(key) {\n",
              "      const quickchartButtonEl =\n",
              "        document.querySelector('#' + key + ' button');\n",
              "      quickchartButtonEl.disabled = true;  // To prevent multiple clicks.\n",
              "      quickchartButtonEl.classList.add('colab-df-spinner');\n",
              "      try {\n",
              "        const charts = await google.colab.kernel.invokeFunction(\n",
              "            'suggestCharts', [key], {});\n",
              "      } catch (error) {\n",
              "        console.error('Error during call to suggestCharts:', error);\n",
              "      }\n",
              "      quickchartButtonEl.classList.remove('colab-df-spinner');\n",
              "      quickchartButtonEl.classList.add('colab-df-quickchart-complete');\n",
              "    }\n",
              "    (() => {\n",
              "      let quickchartButtonEl =\n",
              "        document.querySelector('#df-ebc260d3-5461-4d62-ab43-1eb99094bc25 button');\n",
              "      quickchartButtonEl.style.display =\n",
              "        google.colab.kernel.accessAllowed ? 'block' : 'none';\n",
              "    })();\n",
              "  </script>\n",
              "</div>\n",
              "    </div>\n",
              "  </div>\n"
            ]
          },
          "metadata": {},
          "execution_count": 18
        }
      ]
    },
    {
      "cell_type": "code",
      "source": [
        "test"
      ],
      "metadata": {
        "colab": {
          "base_uri": "https://localhost:8080/",
          "height": 1000
        },
        "id": "2ZBNQT_EK4mf",
        "outputId": "506b5fa5-0118-46c4-e2e4-5e63d0ac8b00"
      },
      "execution_count": 19,
      "outputs": [
        {
          "output_type": "execute_result",
          "data": {
            "text/plain": [
              "          Sine\n",
              "45.1  0.899097\n",
              "45.2  0.938307\n",
              "45.3  0.968142\n",
              "45.4  0.988304\n",
              "45.5  0.998591\n",
              "45.6  0.998900\n",
              "45.7  0.989229\n",
              "45.8  0.969673\n",
              "45.9  0.940429\n",
              "46.0  0.901788\n",
              "46.1  0.854137\n",
              "46.2  0.797952\n",
              "46.3  0.733794\n",
              "46.4  0.662304\n",
              "46.5  0.584197\n",
              "46.6  0.500252\n",
              "46.7  0.411309\n",
              "46.8  0.318257\n",
              "46.9  0.222024\n",
              "47.0  0.123573\n",
              "47.1  0.023888\n",
              "47.2 -0.076037\n",
              "47.3 -0.175201\n",
              "47.4 -0.272615\n",
              "47.5 -0.367305\n",
              "47.6 -0.458325\n",
              "47.7 -0.544766\n",
              "47.8 -0.625764\n",
              "47.9 -0.700509\n",
              "48.0 -0.768255\n",
              "48.1 -0.828324\n",
              "48.2 -0.880118\n",
              "48.3 -0.923117\n",
              "48.4 -0.956893\n",
              "48.5 -0.981108\n",
              "48.6 -0.995521\n",
              "48.7 -0.999986\n",
              "48.8 -0.994460\n",
              "48.9 -0.978997\n",
              "49.0 -0.953753\n",
              "49.1 -0.918979\n",
              "49.2 -0.875023\n",
              "49.3 -0.822324\n",
              "49.4 -0.761408\n",
              "49.5 -0.692885\n",
              "49.6 -0.617439\n",
              "49.7 -0.535823\n",
              "49.8 -0.448854\n",
              "49.9 -0.357400\n",
              "50.0 -0.262375"
            ],
            "text/html": [
              "\n",
              "  <div id=\"df-abf69ea2-2d42-4434-b68d-7ccfa42876d1\" class=\"colab-df-container\">\n",
              "    <div>\n",
              "<style scoped>\n",
              "    .dataframe tbody tr th:only-of-type {\n",
              "        vertical-align: middle;\n",
              "    }\n",
              "\n",
              "    .dataframe tbody tr th {\n",
              "        vertical-align: top;\n",
              "    }\n",
              "\n",
              "    .dataframe thead th {\n",
              "        text-align: right;\n",
              "    }\n",
              "</style>\n",
              "<table border=\"1\" class=\"dataframe\">\n",
              "  <thead>\n",
              "    <tr style=\"text-align: right;\">\n",
              "      <th></th>\n",
              "      <th>Sine</th>\n",
              "    </tr>\n",
              "  </thead>\n",
              "  <tbody>\n",
              "    <tr>\n",
              "      <th>45.1</th>\n",
              "      <td>0.899097</td>\n",
              "    </tr>\n",
              "    <tr>\n",
              "      <th>45.2</th>\n",
              "      <td>0.938307</td>\n",
              "    </tr>\n",
              "    <tr>\n",
              "      <th>45.3</th>\n",
              "      <td>0.968142</td>\n",
              "    </tr>\n",
              "    <tr>\n",
              "      <th>45.4</th>\n",
              "      <td>0.988304</td>\n",
              "    </tr>\n",
              "    <tr>\n",
              "      <th>45.5</th>\n",
              "      <td>0.998591</td>\n",
              "    </tr>\n",
              "    <tr>\n",
              "      <th>45.6</th>\n",
              "      <td>0.998900</td>\n",
              "    </tr>\n",
              "    <tr>\n",
              "      <th>45.7</th>\n",
              "      <td>0.989229</td>\n",
              "    </tr>\n",
              "    <tr>\n",
              "      <th>45.8</th>\n",
              "      <td>0.969673</td>\n",
              "    </tr>\n",
              "    <tr>\n",
              "      <th>45.9</th>\n",
              "      <td>0.940429</td>\n",
              "    </tr>\n",
              "    <tr>\n",
              "      <th>46.0</th>\n",
              "      <td>0.901788</td>\n",
              "    </tr>\n",
              "    <tr>\n",
              "      <th>46.1</th>\n",
              "      <td>0.854137</td>\n",
              "    </tr>\n",
              "    <tr>\n",
              "      <th>46.2</th>\n",
              "      <td>0.797952</td>\n",
              "    </tr>\n",
              "    <tr>\n",
              "      <th>46.3</th>\n",
              "      <td>0.733794</td>\n",
              "    </tr>\n",
              "    <tr>\n",
              "      <th>46.4</th>\n",
              "      <td>0.662304</td>\n",
              "    </tr>\n",
              "    <tr>\n",
              "      <th>46.5</th>\n",
              "      <td>0.584197</td>\n",
              "    </tr>\n",
              "    <tr>\n",
              "      <th>46.6</th>\n",
              "      <td>0.500252</td>\n",
              "    </tr>\n",
              "    <tr>\n",
              "      <th>46.7</th>\n",
              "      <td>0.411309</td>\n",
              "    </tr>\n",
              "    <tr>\n",
              "      <th>46.8</th>\n",
              "      <td>0.318257</td>\n",
              "    </tr>\n",
              "    <tr>\n",
              "      <th>46.9</th>\n",
              "      <td>0.222024</td>\n",
              "    </tr>\n",
              "    <tr>\n",
              "      <th>47.0</th>\n",
              "      <td>0.123573</td>\n",
              "    </tr>\n",
              "    <tr>\n",
              "      <th>47.1</th>\n",
              "      <td>0.023888</td>\n",
              "    </tr>\n",
              "    <tr>\n",
              "      <th>47.2</th>\n",
              "      <td>-0.076037</td>\n",
              "    </tr>\n",
              "    <tr>\n",
              "      <th>47.3</th>\n",
              "      <td>-0.175201</td>\n",
              "    </tr>\n",
              "    <tr>\n",
              "      <th>47.4</th>\n",
              "      <td>-0.272615</td>\n",
              "    </tr>\n",
              "    <tr>\n",
              "      <th>47.5</th>\n",
              "      <td>-0.367305</td>\n",
              "    </tr>\n",
              "    <tr>\n",
              "      <th>47.6</th>\n",
              "      <td>-0.458325</td>\n",
              "    </tr>\n",
              "    <tr>\n",
              "      <th>47.7</th>\n",
              "      <td>-0.544766</td>\n",
              "    </tr>\n",
              "    <tr>\n",
              "      <th>47.8</th>\n",
              "      <td>-0.625764</td>\n",
              "    </tr>\n",
              "    <tr>\n",
              "      <th>47.9</th>\n",
              "      <td>-0.700509</td>\n",
              "    </tr>\n",
              "    <tr>\n",
              "      <th>48.0</th>\n",
              "      <td>-0.768255</td>\n",
              "    </tr>\n",
              "    <tr>\n",
              "      <th>48.1</th>\n",
              "      <td>-0.828324</td>\n",
              "    </tr>\n",
              "    <tr>\n",
              "      <th>48.2</th>\n",
              "      <td>-0.880118</td>\n",
              "    </tr>\n",
              "    <tr>\n",
              "      <th>48.3</th>\n",
              "      <td>-0.923117</td>\n",
              "    </tr>\n",
              "    <tr>\n",
              "      <th>48.4</th>\n",
              "      <td>-0.956893</td>\n",
              "    </tr>\n",
              "    <tr>\n",
              "      <th>48.5</th>\n",
              "      <td>-0.981108</td>\n",
              "    </tr>\n",
              "    <tr>\n",
              "      <th>48.6</th>\n",
              "      <td>-0.995521</td>\n",
              "    </tr>\n",
              "    <tr>\n",
              "      <th>48.7</th>\n",
              "      <td>-0.999986</td>\n",
              "    </tr>\n",
              "    <tr>\n",
              "      <th>48.8</th>\n",
              "      <td>-0.994460</td>\n",
              "    </tr>\n",
              "    <tr>\n",
              "      <th>48.9</th>\n",
              "      <td>-0.978997</td>\n",
              "    </tr>\n",
              "    <tr>\n",
              "      <th>49.0</th>\n",
              "      <td>-0.953753</td>\n",
              "    </tr>\n",
              "    <tr>\n",
              "      <th>49.1</th>\n",
              "      <td>-0.918979</td>\n",
              "    </tr>\n",
              "    <tr>\n",
              "      <th>49.2</th>\n",
              "      <td>-0.875023</td>\n",
              "    </tr>\n",
              "    <tr>\n",
              "      <th>49.3</th>\n",
              "      <td>-0.822324</td>\n",
              "    </tr>\n",
              "    <tr>\n",
              "      <th>49.4</th>\n",
              "      <td>-0.761408</td>\n",
              "    </tr>\n",
              "    <tr>\n",
              "      <th>49.5</th>\n",
              "      <td>-0.692885</td>\n",
              "    </tr>\n",
              "    <tr>\n",
              "      <th>49.6</th>\n",
              "      <td>-0.617439</td>\n",
              "    </tr>\n",
              "    <tr>\n",
              "      <th>49.7</th>\n",
              "      <td>-0.535823</td>\n",
              "    </tr>\n",
              "    <tr>\n",
              "      <th>49.8</th>\n",
              "      <td>-0.448854</td>\n",
              "    </tr>\n",
              "    <tr>\n",
              "      <th>49.9</th>\n",
              "      <td>-0.357400</td>\n",
              "    </tr>\n",
              "    <tr>\n",
              "      <th>50.0</th>\n",
              "      <td>-0.262375</td>\n",
              "    </tr>\n",
              "  </tbody>\n",
              "</table>\n",
              "</div>\n",
              "    <div class=\"colab-df-buttons\">\n",
              "\n",
              "  <div class=\"colab-df-container\">\n",
              "    <button class=\"colab-df-convert\" onclick=\"convertToInteractive('df-abf69ea2-2d42-4434-b68d-7ccfa42876d1')\"\n",
              "            title=\"Convert this dataframe to an interactive table.\"\n",
              "            style=\"display:none;\">\n",
              "\n",
              "  <svg xmlns=\"http://www.w3.org/2000/svg\" height=\"24px\" viewBox=\"0 -960 960 960\">\n",
              "    <path d=\"M120-120v-720h720v720H120Zm60-500h600v-160H180v160Zm220 220h160v-160H400v160Zm0 220h160v-160H400v160ZM180-400h160v-160H180v160Zm440 0h160v-160H620v160ZM180-180h160v-160H180v160Zm440 0h160v-160H620v160Z\"/>\n",
              "  </svg>\n",
              "    </button>\n",
              "\n",
              "  <style>\n",
              "    .colab-df-container {\n",
              "      display:flex;\n",
              "      gap: 12px;\n",
              "    }\n",
              "\n",
              "    .colab-df-convert {\n",
              "      background-color: #E8F0FE;\n",
              "      border: none;\n",
              "      border-radius: 50%;\n",
              "      cursor: pointer;\n",
              "      display: none;\n",
              "      fill: #1967D2;\n",
              "      height: 32px;\n",
              "      padding: 0 0 0 0;\n",
              "      width: 32px;\n",
              "    }\n",
              "\n",
              "    .colab-df-convert:hover {\n",
              "      background-color: #E2EBFA;\n",
              "      box-shadow: 0px 1px 2px rgba(60, 64, 67, 0.3), 0px 1px 3px 1px rgba(60, 64, 67, 0.15);\n",
              "      fill: #174EA6;\n",
              "    }\n",
              "\n",
              "    .colab-df-buttons div {\n",
              "      margin-bottom: 4px;\n",
              "    }\n",
              "\n",
              "    [theme=dark] .colab-df-convert {\n",
              "      background-color: #3B4455;\n",
              "      fill: #D2E3FC;\n",
              "    }\n",
              "\n",
              "    [theme=dark] .colab-df-convert:hover {\n",
              "      background-color: #434B5C;\n",
              "      box-shadow: 0px 1px 3px 1px rgba(0, 0, 0, 0.15);\n",
              "      filter: drop-shadow(0px 1px 2px rgba(0, 0, 0, 0.3));\n",
              "      fill: #FFFFFF;\n",
              "    }\n",
              "  </style>\n",
              "\n",
              "    <script>\n",
              "      const buttonEl =\n",
              "        document.querySelector('#df-abf69ea2-2d42-4434-b68d-7ccfa42876d1 button.colab-df-convert');\n",
              "      buttonEl.style.display =\n",
              "        google.colab.kernel.accessAllowed ? 'block' : 'none';\n",
              "\n",
              "      async function convertToInteractive(key) {\n",
              "        const element = document.querySelector('#df-abf69ea2-2d42-4434-b68d-7ccfa42876d1');\n",
              "        const dataTable =\n",
              "          await google.colab.kernel.invokeFunction('convertToInteractive',\n",
              "                                                    [key], {});\n",
              "        if (!dataTable) return;\n",
              "\n",
              "        const docLinkHtml = 'Like what you see? Visit the ' +\n",
              "          '<a target=\"_blank\" href=https://colab.research.google.com/notebooks/data_table.ipynb>data table notebook</a>'\n",
              "          + ' to learn more about interactive tables.';\n",
              "        element.innerHTML = '';\n",
              "        dataTable['output_type'] = 'display_data';\n",
              "        await google.colab.output.renderOutput(dataTable, element);\n",
              "        const docLink = document.createElement('div');\n",
              "        docLink.innerHTML = docLinkHtml;\n",
              "        element.appendChild(docLink);\n",
              "      }\n",
              "    </script>\n",
              "  </div>\n",
              "\n",
              "\n",
              "<div id=\"df-282daffb-e77f-49e2-a005-f46fbfb1fc4a\">\n",
              "  <button class=\"colab-df-quickchart\" onclick=\"quickchart('df-282daffb-e77f-49e2-a005-f46fbfb1fc4a')\"\n",
              "            title=\"Suggest charts\"\n",
              "            style=\"display:none;\">\n",
              "\n",
              "<svg xmlns=\"http://www.w3.org/2000/svg\" height=\"24px\"viewBox=\"0 0 24 24\"\n",
              "     width=\"24px\">\n",
              "    <g>\n",
              "        <path d=\"M19 3H5c-1.1 0-2 .9-2 2v14c0 1.1.9 2 2 2h14c1.1 0 2-.9 2-2V5c0-1.1-.9-2-2-2zM9 17H7v-7h2v7zm4 0h-2V7h2v10zm4 0h-2v-4h2v4z\"/>\n",
              "    </g>\n",
              "</svg>\n",
              "  </button>\n",
              "\n",
              "<style>\n",
              "  .colab-df-quickchart {\n",
              "      --bg-color: #E8F0FE;\n",
              "      --fill-color: #1967D2;\n",
              "      --hover-bg-color: #E2EBFA;\n",
              "      --hover-fill-color: #174EA6;\n",
              "      --disabled-fill-color: #AAA;\n",
              "      --disabled-bg-color: #DDD;\n",
              "  }\n",
              "\n",
              "  [theme=dark] .colab-df-quickchart {\n",
              "      --bg-color: #3B4455;\n",
              "      --fill-color: #D2E3FC;\n",
              "      --hover-bg-color: #434B5C;\n",
              "      --hover-fill-color: #FFFFFF;\n",
              "      --disabled-bg-color: #3B4455;\n",
              "      --disabled-fill-color: #666;\n",
              "  }\n",
              "\n",
              "  .colab-df-quickchart {\n",
              "    background-color: var(--bg-color);\n",
              "    border: none;\n",
              "    border-radius: 50%;\n",
              "    cursor: pointer;\n",
              "    display: none;\n",
              "    fill: var(--fill-color);\n",
              "    height: 32px;\n",
              "    padding: 0;\n",
              "    width: 32px;\n",
              "  }\n",
              "\n",
              "  .colab-df-quickchart:hover {\n",
              "    background-color: var(--hover-bg-color);\n",
              "    box-shadow: 0 1px 2px rgba(60, 64, 67, 0.3), 0 1px 3px 1px rgba(60, 64, 67, 0.15);\n",
              "    fill: var(--button-hover-fill-color);\n",
              "  }\n",
              "\n",
              "  .colab-df-quickchart-complete:disabled,\n",
              "  .colab-df-quickchart-complete:disabled:hover {\n",
              "    background-color: var(--disabled-bg-color);\n",
              "    fill: var(--disabled-fill-color);\n",
              "    box-shadow: none;\n",
              "  }\n",
              "\n",
              "  .colab-df-spinner {\n",
              "    border: 2px solid var(--fill-color);\n",
              "    border-color: transparent;\n",
              "    border-bottom-color: var(--fill-color);\n",
              "    animation:\n",
              "      spin 1s steps(1) infinite;\n",
              "  }\n",
              "\n",
              "  @keyframes spin {\n",
              "    0% {\n",
              "      border-color: transparent;\n",
              "      border-bottom-color: var(--fill-color);\n",
              "      border-left-color: var(--fill-color);\n",
              "    }\n",
              "    20% {\n",
              "      border-color: transparent;\n",
              "      border-left-color: var(--fill-color);\n",
              "      border-top-color: var(--fill-color);\n",
              "    }\n",
              "    30% {\n",
              "      border-color: transparent;\n",
              "      border-left-color: var(--fill-color);\n",
              "      border-top-color: var(--fill-color);\n",
              "      border-right-color: var(--fill-color);\n",
              "    }\n",
              "    40% {\n",
              "      border-color: transparent;\n",
              "      border-right-color: var(--fill-color);\n",
              "      border-top-color: var(--fill-color);\n",
              "    }\n",
              "    60% {\n",
              "      border-color: transparent;\n",
              "      border-right-color: var(--fill-color);\n",
              "    }\n",
              "    80% {\n",
              "      border-color: transparent;\n",
              "      border-right-color: var(--fill-color);\n",
              "      border-bottom-color: var(--fill-color);\n",
              "    }\n",
              "    90% {\n",
              "      border-color: transparent;\n",
              "      border-bottom-color: var(--fill-color);\n",
              "    }\n",
              "  }\n",
              "</style>\n",
              "\n",
              "  <script>\n",
              "    async function quickchart(key) {\n",
              "      const quickchartButtonEl =\n",
              "        document.querySelector('#' + key + ' button');\n",
              "      quickchartButtonEl.disabled = true;  // To prevent multiple clicks.\n",
              "      quickchartButtonEl.classList.add('colab-df-spinner');\n",
              "      try {\n",
              "        const charts = await google.colab.kernel.invokeFunction(\n",
              "            'suggestCharts', [key], {});\n",
              "      } catch (error) {\n",
              "        console.error('Error during call to suggestCharts:', error);\n",
              "      }\n",
              "      quickchartButtonEl.classList.remove('colab-df-spinner');\n",
              "      quickchartButtonEl.classList.add('colab-df-quickchart-complete');\n",
              "    }\n",
              "    (() => {\n",
              "      let quickchartButtonEl =\n",
              "        document.querySelector('#df-282daffb-e77f-49e2-a005-f46fbfb1fc4a button');\n",
              "      quickchartButtonEl.style.display =\n",
              "        google.colab.kernel.accessAllowed ? 'block' : 'none';\n",
              "    })();\n",
              "  </script>\n",
              "</div>\n",
              "    </div>\n",
              "  </div>\n"
            ]
          },
          "metadata": {},
          "execution_count": 19
        }
      ]
    },
    {
      "cell_type": "markdown",
      "source": [
        "# Scale the data"
      ],
      "metadata": {
        "id": "W0AUrmd7LDTD"
      }
    },
    {
      "cell_type": "code",
      "source": [
        "from sklearn.preprocessing import MinMaxScaler"
      ],
      "metadata": {
        "id": "3UiB_lAeLAmT"
      },
      "execution_count": 20,
      "outputs": []
    },
    {
      "cell_type": "code",
      "source": [
        "scaler = MinMaxScaler()"
      ],
      "metadata": {
        "id": "TwK-CvV2N37d"
      },
      "execution_count": 21,
      "outputs": []
    },
    {
      "cell_type": "code",
      "source": [
        "scaler.fit(train)"
      ],
      "metadata": {
        "colab": {
          "base_uri": "https://localhost:8080/",
          "height": 75
        },
        "id": "4Ou88wUPN54G",
        "outputId": "e07f3aa4-f760-4667-c620-001eb23d83bf"
      },
      "execution_count": 22,
      "outputs": [
        {
          "output_type": "execute_result",
          "data": {
            "text/plain": [
              "MinMaxScaler()"
            ],
            "text/html": [
              "<style>#sk-container-id-1 {color: black;background-color: white;}#sk-container-id-1 pre{padding: 0;}#sk-container-id-1 div.sk-toggleable {background-color: white;}#sk-container-id-1 label.sk-toggleable__label {cursor: pointer;display: block;width: 100%;margin-bottom: 0;padding: 0.3em;box-sizing: border-box;text-align: center;}#sk-container-id-1 label.sk-toggleable__label-arrow:before {content: \"▸\";float: left;margin-right: 0.25em;color: #696969;}#sk-container-id-1 label.sk-toggleable__label-arrow:hover:before {color: black;}#sk-container-id-1 div.sk-estimator:hover label.sk-toggleable__label-arrow:before {color: black;}#sk-container-id-1 div.sk-toggleable__content {max-height: 0;max-width: 0;overflow: hidden;text-align: left;background-color: #f0f8ff;}#sk-container-id-1 div.sk-toggleable__content pre {margin: 0.2em;color: black;border-radius: 0.25em;background-color: #f0f8ff;}#sk-container-id-1 input.sk-toggleable__control:checked~div.sk-toggleable__content {max-height: 200px;max-width: 100%;overflow: auto;}#sk-container-id-1 input.sk-toggleable__control:checked~label.sk-toggleable__label-arrow:before {content: \"▾\";}#sk-container-id-1 div.sk-estimator input.sk-toggleable__control:checked~label.sk-toggleable__label {background-color: #d4ebff;}#sk-container-id-1 div.sk-label input.sk-toggleable__control:checked~label.sk-toggleable__label {background-color: #d4ebff;}#sk-container-id-1 input.sk-hidden--visually {border: 0;clip: rect(1px 1px 1px 1px);clip: rect(1px, 1px, 1px, 1px);height: 1px;margin: -1px;overflow: hidden;padding: 0;position: absolute;width: 1px;}#sk-container-id-1 div.sk-estimator {font-family: monospace;background-color: #f0f8ff;border: 1px dotted black;border-radius: 0.25em;box-sizing: border-box;margin-bottom: 0.5em;}#sk-container-id-1 div.sk-estimator:hover {background-color: #d4ebff;}#sk-container-id-1 div.sk-parallel-item::after {content: \"\";width: 100%;border-bottom: 1px solid gray;flex-grow: 1;}#sk-container-id-1 div.sk-label:hover label.sk-toggleable__label {background-color: #d4ebff;}#sk-container-id-1 div.sk-serial::before {content: \"\";position: absolute;border-left: 1px solid gray;box-sizing: border-box;top: 0;bottom: 0;left: 50%;z-index: 0;}#sk-container-id-1 div.sk-serial {display: flex;flex-direction: column;align-items: center;background-color: white;padding-right: 0.2em;padding-left: 0.2em;position: relative;}#sk-container-id-1 div.sk-item {position: relative;z-index: 1;}#sk-container-id-1 div.sk-parallel {display: flex;align-items: stretch;justify-content: center;background-color: white;position: relative;}#sk-container-id-1 div.sk-item::before, #sk-container-id-1 div.sk-parallel-item::before {content: \"\";position: absolute;border-left: 1px solid gray;box-sizing: border-box;top: 0;bottom: 0;left: 50%;z-index: -1;}#sk-container-id-1 div.sk-parallel-item {display: flex;flex-direction: column;z-index: 1;position: relative;background-color: white;}#sk-container-id-1 div.sk-parallel-item:first-child::after {align-self: flex-end;width: 50%;}#sk-container-id-1 div.sk-parallel-item:last-child::after {align-self: flex-start;width: 50%;}#sk-container-id-1 div.sk-parallel-item:only-child::after {width: 0;}#sk-container-id-1 div.sk-dashed-wrapped {border: 1px dashed gray;margin: 0 0.4em 0.5em 0.4em;box-sizing: border-box;padding-bottom: 0.4em;background-color: white;}#sk-container-id-1 div.sk-label label {font-family: monospace;font-weight: bold;display: inline-block;line-height: 1.2em;}#sk-container-id-1 div.sk-label-container {text-align: center;}#sk-container-id-1 div.sk-container {/* jupyter's `normalize.less` sets `[hidden] { display: none; }` but bootstrap.min.css set `[hidden] { display: none !important; }` so we also need the `!important` here to be able to override the default hidden behavior on the sphinx rendered scikit-learn.org. See: https://github.com/scikit-learn/scikit-learn/issues/21755 */display: inline-block !important;position: relative;}#sk-container-id-1 div.sk-text-repr-fallback {display: none;}</style><div id=\"sk-container-id-1\" class=\"sk-top-container\"><div class=\"sk-text-repr-fallback\"><pre>MinMaxScaler()</pre><b>In a Jupyter environment, please rerun this cell to show the HTML representation or trust the notebook. <br />On GitHub, the HTML representation is unable to render, please try loading this page with nbviewer.org.</b></div><div class=\"sk-container\" hidden><div class=\"sk-item\"><div class=\"sk-estimator sk-toggleable\"><input class=\"sk-toggleable__control sk-hidden--visually\" id=\"sk-estimator-id-1\" type=\"checkbox\" checked><label for=\"sk-estimator-id-1\" class=\"sk-toggleable__label sk-toggleable__label-arrow\">MinMaxScaler</label><div class=\"sk-toggleable__content\"><pre>MinMaxScaler()</pre></div></div></div></div></div>"
            ]
          },
          "metadata": {},
          "execution_count": 22
        }
      ]
    },
    {
      "cell_type": "code",
      "source": [
        "scaled_train = scaler.transform(train)"
      ],
      "metadata": {
        "id": "k-uWEfy8OCMr"
      },
      "execution_count": 23,
      "outputs": []
    },
    {
      "cell_type": "code",
      "source": [
        "scaled_test = scaler.transform(test)"
      ],
      "metadata": {
        "id": "EKsvQ5uXOJtf"
      },
      "execution_count": 24,
      "outputs": []
    },
    {
      "cell_type": "markdown",
      "source": [
        "# Creating batches"
      ],
      "metadata": {
        "id": "Z5d8NJmETKzH"
      }
    },
    {
      "cell_type": "code",
      "source": [
        "from tensorflow.keras.preprocessing.sequence import TimeseriesGenerator"
      ],
      "metadata": {
        "id": "B5_NjmFgOOuS"
      },
      "execution_count": 25,
      "outputs": []
    },
    {
      "cell_type": "code",
      "source": [
        "length = 25\n",
        "batch_size = 1\n",
        "\n",
        "generator = TimeseriesGenerator(scaled_train,scaled_train,\n",
        "                                length=length,batch_size=batch_size)"
      ],
      "metadata": {
        "id": "wB9LiIsDTSwH"
      },
      "execution_count": 33,
      "outputs": []
    },
    {
      "cell_type": "code",
      "source": [
        "len(scaled_train)"
      ],
      "metadata": {
        "colab": {
          "base_uri": "https://localhost:8080/"
        },
        "id": "tfRElCKUUD86",
        "outputId": "da5c93bf-00aa-40e4-df5c-ceaff53a2ef9"
      },
      "execution_count": 34,
      "outputs": [
        {
          "output_type": "execute_result",
          "data": {
            "text/plain": [
              "451"
            ]
          },
          "metadata": {},
          "execution_count": 34
        }
      ]
    },
    {
      "cell_type": "code",
      "source": [
        "len(generator)"
      ],
      "metadata": {
        "colab": {
          "base_uri": "https://localhost:8080/"
        },
        "id": "hjy_j_3qUJmE",
        "outputId": "dd02d480-5351-40ce-a974-f46043175fb1"
      },
      "execution_count": 35,
      "outputs": [
        {
          "output_type": "execute_result",
          "data": {
            "text/plain": [
              "426"
            ]
          },
          "metadata": {},
          "execution_count": 35
        }
      ]
    },
    {
      "cell_type": "code",
      "source": [
        "X,y=generator[0]"
      ],
      "metadata": {
        "id": "Dl40veJzULaO"
      },
      "execution_count": 36,
      "outputs": []
    },
    {
      "cell_type": "code",
      "source": [
        "X"
      ],
      "metadata": {
        "colab": {
          "base_uri": "https://localhost:8080/"
        },
        "id": "H42OK7i5UaDm",
        "outputId": "f7f6d833-9ed3-4f2a-9427-8e7daaf319a6"
      },
      "execution_count": 37,
      "outputs": [
        {
          "output_type": "execute_result",
          "data": {
            "text/plain": [
              "array([[[0.49999912],\n",
              "        [0.54991622],\n",
              "        [0.59933458],\n",
              "        [0.64776041],\n",
              "        [0.69470985],\n",
              "        [0.73971381],\n",
              "        [0.78232262],\n",
              "        [0.82211054],\n",
              "        [0.85868004],\n",
              "        [0.89166571],\n",
              "        [0.92073798],\n",
              "        [0.94560637],\n",
              "        [0.9660224 ],\n",
              "        [0.98178208],\n",
              "        [0.99272794],\n",
              "        [0.99875061],\n",
              "        [0.99978993],\n",
              "        [0.9958355 ],\n",
              "        [0.98692684],\n",
              "        [0.97315296],\n",
              "        [0.95465148],\n",
              "        [0.93160726],\n",
              "        [0.90425056],\n",
              "        [0.87285471],\n",
              "        [0.83773342]]])"
            ]
          },
          "metadata": {},
          "execution_count": 37
        }
      ]
    },
    {
      "cell_type": "code",
      "source": [
        "y"
      ],
      "metadata": {
        "colab": {
          "base_uri": "https://localhost:8080/"
        },
        "id": "QZLndc4HUa3P",
        "outputId": "5cfd7ca4-d113-49d1-fc4e-522e77a14fac"
      },
      "execution_count": 38,
      "outputs": [
        {
          "output_type": "execute_result",
          "data": {
            "text/plain": [
              "array([[0.79923759]])"
            ]
          },
          "metadata": {},
          "execution_count": 38
        }
      ]
    },
    {
      "cell_type": "code",
      "source": [
        "scaled_train"
      ],
      "metadata": {
        "colab": {
          "base_uri": "https://localhost:8080/"
        },
        "id": "i8XkRR-JUbWH",
        "outputId": "b03d53d3-1146-4996-facf-8bd746060b18"
      },
      "execution_count": 39,
      "outputs": [
        {
          "output_type": "execute_result",
          "data": {
            "text/plain": [
              "array([[4.99999116e-01],\n",
              "       [5.49916225e-01],\n",
              "       [5.99334579e-01],\n",
              "       [6.47760405e-01],\n",
              "       [6.94709850e-01],\n",
              "       [7.39713809e-01],\n",
              "       [7.82322618e-01],\n",
              "       [8.22110545e-01],\n",
              "       [8.58680040e-01],\n",
              "       [8.91665714e-01],\n",
              "       [9.20737985e-01],\n",
              "       [9.45606372e-01],\n",
              "       [9.66022399e-01],\n",
              "       [9.81782075e-01],\n",
              "       [9.92727935e-01],\n",
              "       [9.98750612e-01],\n",
              "       [9.99789928e-01],\n",
              "       [9.95835500e-01],\n",
              "       [9.86926839e-01],\n",
              "       [9.73152957e-01],\n",
              "       [9.54651478e-01],\n",
              "       [9.31607263e-01],\n",
              "       [9.04250562e-01],\n",
              "       [8.72854714e-01],\n",
              "       [8.37733417e-01],\n",
              "       [7.99237589e-01],\n",
              "       [7.57751870e-01],\n",
              "       [7.13690771e-01],\n",
              "       [6.67494535e-01],\n",
              "       [6.19624741e-01],\n",
              "       [5.70559686e-01],\n",
              "       [5.20789614e-01],\n",
              "       [4.70811810e-01],\n",
              "       [4.21125636e-01],\n",
              "       [3.72227539e-01],\n",
              "       [3.24606094e-01],\n",
              "       [2.78737119e-01],\n",
              "       [2.35078919e-01],\n",
              "       [1.94067715e-01],\n",
              "       [1.56113277e-01],\n",
              "       [1.21594831e-01],\n",
              "       [9.08572769e-02],\n",
              "       [6.42077324e-02],\n",
              "       [4.19124713e-02],\n",
              "       [2.41942605e-02],\n",
              "       [1.12301346e-02],\n",
              "       [3.14962674e-03],\n",
              "       [3.34747619e-05],\n",
              "       [1.91281421e-03],\n",
              "       [8.76886734e-03],\n",
              "       [2.05331307e-02],\n",
              "       [3.70880598e-02],\n",
              "       [5.82682430e-02],\n",
              "       [8.38620552e-02],\n",
              "       [1.13613771e-01],\n",
              "       [1.47226122e-01],\n",
              "       [1.84363264e-01],\n",
              "       [2.24654135e-01],\n",
              "       [2.67696162e-01],\n",
              "       [3.13059283e-01],\n",
              "       [3.60290246e-01],\n",
              "       [4.08917133e-01],\n",
              "       [4.58454081e-01],\n",
              "       [5.08406134e-01],\n",
              "       [5.58274186e-01],\n",
              "       [6.07559973e-01],\n",
              "       [6.55771048e-01],\n",
              "       [7.02425701e-01],\n",
              "       [7.47057774e-01],\n",
              "       [7.89221319e-01],\n",
              "       [8.28495052e-01],\n",
              "       [8.64486561e-01],\n",
              "       [8.96836233e-01],\n",
              "       [9.25220839e-01],\n",
              "       [9.49356770e-01],\n",
              "       [9.69002868e-01],\n",
              "       [9.83962836e-01],\n",
              "       [9.94087198e-01],\n",
              "       [9.99274795e-01],\n",
              "       [9.99473795e-01],\n",
              "       [9.94682209e-01],\n",
              "       [9.84947913e-01],\n",
              "       [9.70368169e-01],\n",
              "       [9.51088653e-01],\n",
              "       [9.27301999e-01],\n",
              "       [8.99245876e-01],\n",
              "       [8.67200612e-01],\n",
              "       [8.31486391e-01],\n",
              "       [7.92460059e-01],\n",
              "       [7.50511555e-01],\n",
              "       [7.06060012e-01],\n",
              "       [6.59549578e-01],\n",
              "       [6.11444967e-01],\n",
              "       [5.62226827e-01],\n",
              "       [5.12386928e-01],\n",
              "       [4.62423254e-01],\n",
              "       [4.12835026e-01],\n",
              "       [3.64117712e-01],\n",
              "       [3.16758081e-01],\n",
              "       [2.71229333e-01],\n",
              "       [2.27986377e-01],\n",
              "       [1.87461283e-01],\n",
              "       [1.50058964e-01],\n",
              "       [1.16153131e-01],\n",
              "       [8.60825596e-02],\n",
              "       [6.01477060e-02],\n",
              "       [3.86077023e-02],\n",
              "       [2.16777691e-02],\n",
              "       [9.52706470e-03],\n",
              "       [2.27699490e-03],\n",
              "       [0.00000000e+00],\n",
              "       [2.71883099e-03],\n",
              "       [1.04063222e-02],\n",
              "       [2.29856628e-02],\n",
              "       [4.03311641e-02],\n",
              "       [6.22695157e-02],\n",
              "       [8.85815167e-02],\n",
              "       [1.19004266e-01],\n",
              "       [1.53233791e-01],\n",
              "       [1.90928079e-01],\n",
              "       [2.31710504e-01],\n",
              "       [2.75173579e-01],\n",
              "       [3.20883037e-01],\n",
              "       [3.68382164e-01],\n",
              "       [4.17196364e-01],\n",
              "       [4.66837901e-01],\n",
              "       [5.16810774e-01],\n",
              "       [5.66615671e-01],\n",
              "       [6.15754957e-01],\n",
              "       [6.63737650e-01],\n",
              "       [7.10084320e-01],\n",
              "       [7.54331889e-01],\n",
              "       [7.96038249e-01],\n",
              "       [8.34786684e-01],\n",
              "       [8.70190032e-01],\n",
              "       [9.01894555e-01],\n",
              "       [9.29583471e-01],\n",
              "       [9.52980122e-01],\n",
              "       [9.71850737e-01],\n",
              "       [9.86006767e-01],\n",
              "       [9.95306769e-01],\n",
              "       [9.99657820e-01],\n",
              "       [9.99016447e-01],\n",
              "       [9.93389058e-01],\n",
              "       [9.82831879e-01],\n",
              "       [9.67450395e-01],\n",
              "       [9.47398292e-01],\n",
              "       [9.22875925e-01],\n",
              "       [8.94128313e-01],\n",
              "       [8.61442691e-01],\n",
              "       [8.25145645e-01],\n",
              "       [7.85599843e-01],\n",
              "       [7.43200412e-01],\n",
              "       [6.98370994e-01],\n",
              "       [6.51559511e-01],\n",
              "       [6.03233685e-01],\n",
              "       [5.53876374e-01],\n",
              "       [5.03980740e-01],\n",
              "       [4.54045322e-01],\n",
              "       [4.04569059e-01],\n",
              "       [3.56046302e-01],\n",
              "       [3.08961874e-01],\n",
              "       [2.63786227e-01],\n",
              "       [2.20970741e-01],\n",
              "       [1.80943214e-01],\n",
              "       [1.44103589e-01],\n",
              "       [1.10819953e-01],\n",
              "       [8.14248677e-02],\n",
              "       [5.62120376e-02],\n",
              "       [3.54333813e-02],\n",
              "       [1.92965122e-02],\n",
              "       [7.96266464e-03],\n",
              "       [1.54508265e-03],\n",
              "       [1.07888605e-04],\n",
              "       [3.66544246e-03],\n",
              "       [1.21821983e-02],\n",
              "       [2.55730595e-02],\n",
              "       [4.37042291e-02],\n",
              "       [6.63945464e-02],\n",
              "       [9.34172971e-02],\n",
              "       [1.24502479e-01],\n",
              "       [1.59339499e-01],\n",
              "       [1.97580278e-01],\n",
              "       [2.38842725e-01],\n",
              "       [2.82714561e-01],\n",
              "       [3.28757432e-01],\n",
              "       [3.76511294e-01],\n",
              "       [4.25499005e-01],\n",
              "       [4.75231097e-01],\n",
              "       [5.25210662e-01],\n",
              "       [5.74938322e-01],\n",
              "       [6.23917214e-01],\n",
              "       [6.71657958e-01],\n",
              "       [7.17683543e-01],\n",
              "       [7.61534097e-01],\n",
              "       [8.02771481e-01],\n",
              "       [8.40983662e-01],\n",
              "       [8.75788839e-01],\n",
              "       [9.06839250e-01],\n",
              "       [9.33824648e-01],\n",
              "       [9.56475405e-01],\n",
              "       [9.74565201e-01],\n",
              "       [9.87913290e-01],\n",
              "       [9.96386302e-01],\n",
              "       [9.99899578e-01],\n",
              "       [9.98418013e-01],\n",
              "       [9.91956411e-01],\n",
              "       [9.80579335e-01],\n",
              "       [9.64400460e-01],\n",
              "       [9.43581440e-01],\n",
              "       [9.18330292e-01],\n",
              "       [8.88899318e-01],\n",
              "       [8.55582581e-01],\n",
              "       [8.18712972e-01],\n",
              "       [7.78658879e-01],\n",
              "       [7.35820510e-01],\n",
              "       [6.90625892e-01],\n",
              "       [6.43526593e-01],\n",
              "       [5.94993216e-01],\n",
              "       [5.45510689e-01],\n",
              "       [4.95573426e-01],\n",
              "       [4.45680382e-01],\n",
              "       [3.96330074e-01],\n",
              "       [3.48015592e-01],\n",
              "       [3.01219679e-01],\n",
              "       [2.56409905e-01],\n",
              "       [2.14033993e-01],\n",
              "       [1.74515351e-01],\n",
              "       [1.38248835e-01],\n",
              "       [1.05596808e-01],\n",
              "       [7.68855182e-02],\n",
              "       [5.24018399e-02],\n",
              "       [3.23904056e-02],\n",
              "       [1.70511630e-02],\n",
              "       [6.53737668e-03],\n",
              "       [9.54096943e-04],\n",
              "       [3.57110073e-04],\n",
              "       [4.75238097e-03],\n",
              "       [1.40959935e-02],\n",
              "       [2.82945895e-02],\n",
              "       [4.72063011e-02],\n",
              "       [7.06421689e-02],\n",
              "       [9.83680294e-02],\n",
              "       [1.30106855e-01],\n",
              "       [1.65541522e-01],\n",
              "       [2.04317978e-01],\n",
              "       [2.46048783e-01],\n",
              "       [2.90316975e-01],\n",
              "       [3.36680242e-01],\n",
              "       [3.84675337e-01],\n",
              "       [4.33822710e-01],\n",
              "       [4.83631295e-01],\n",
              "       [5.33603422e-01],\n",
              "       [5.83239786e-01],\n",
              "       [6.32044436e-01],\n",
              "       [6.79529734e-01],\n",
              "       [7.25221221e-01],\n",
              "       [7.68662363e-01],\n",
              "       [8.09419110e-01],\n",
              "       [8.47084236e-01],\n",
              "       [8.81281401e-01],\n",
              "       [9.11668920e-01],\n",
              "       [9.37943170e-01],\n",
              "       [9.59841629e-01],\n",
              "       [9.77145492e-01],\n",
              "       [9.89681867e-01],\n",
              "       [9.97325494e-01],\n",
              "       [1.00000000e+00],\n",
              "       [9.97678662e-01],\n",
              "       [9.90384675e-01],\n",
              "       [9.78190918e-01],\n",
              "       [9.61219226e-01],\n",
              "       [9.39639175e-01],\n",
              "       [9.13666386e-01],\n",
              "       [8.83560370e-01],\n",
              "       [8.49621938e-01],\n",
              "       [8.12190189e-01],\n",
              "       [7.71639131e-01],\n",
              "       [7.28373935e-01],\n",
              "       [6.82826893e-01],\n",
              "       [6.35453097e-01],\n",
              "       [5.86725890e-01],\n",
              "       [5.37132137e-01],\n",
              "       [4.87167363e-01],\n",
              "       [4.37330800e-01],\n",
              "       [3.88120398e-01],\n",
              "       [3.40027851e-01],\n",
              "       [2.93533684e-01],\n",
              "       [2.49102452e-01],\n",
              "       [2.07178096e-01],\n",
              "       [1.68179511e-01],\n",
              "       [1.32496358e-01],\n",
              "       [1.00485170e-01],\n",
              "       [7.24657944e-02],\n",
              "       [4.87181901e-02],\n",
              "       [2.94796357e-02],\n",
              "       [1.49423563e-02],\n",
              "       [5.25160379e-03],\n",
              "       [5.04204848e-04],\n",
              "       [7.47593943e-04],\n",
              "       [5.97933921e-03],\n",
              "       [1.61471668e-02],\n",
              "       [3.11494831e-02],\n",
              "       [5.08363900e-02],\n",
              "       [7.50111823e-02],\n",
              "       [1.03432314e-01],\n",
              "       [1.35815809e-01],\n",
              "       [1.71838104e-01],\n",
              "       [2.11139276e-01],\n",
              "       [2.53326639e-01],\n",
              "       [2.97978672e-01],\n",
              "       [3.44649227e-01],\n",
              "       [3.92871986e-01],\n",
              "       [4.42165124e-01],\n",
              "       [4.92036121e-01],\n",
              "       [5.41986681e-01],\n",
              "       [5.91517715e-01],\n",
              "       [6.40134325e-01],\n",
              "       [6.87350751e-01],\n",
              "       [7.32695222e-01],\n",
              "       [7.75714669e-01],\n",
              "       [8.15979258e-01],\n",
              "       [8.53086678e-01],\n",
              "       [8.86666164e-01],\n",
              "       [9.16382200e-01],\n",
              "       [9.41937874e-01],\n",
              "       [9.63077843e-01],\n",
              "       [9.79590881e-01],\n",
              "       [9.91311998e-01],\n",
              "       [9.98124078e-01],\n",
              "       [9.99959058e-01],\n",
              "       [9.96798604e-01],\n",
              "       [9.88674294e-01],\n",
              "       [9.75667303e-01],\n",
              "       [9.57907592e-01],\n",
              "       [9.35572612e-01],\n",
              "       [9.08885525e-01],\n",
              "       [8.78112980e-01],\n",
              "       [8.43562446e-01],\n",
              "       [8.05579141e-01],\n",
              "       [7.64542582e-01],\n",
              "       [7.20862792e-01],\n",
              "       [6.74976205e-01],\n",
              "       [6.27341304e-01],\n",
              "       [5.78434043e-01],\n",
              "       [5.28743086e-01],\n",
              "       [4.78764928e-01],\n",
              "       [4.28998936e-01],\n",
              "       [3.79942353e-01],\n",
              "       [3.32085339e-01],\n",
              "       [2.85906063e-01],\n",
              "       [2.41865934e-01],\n",
              "       [2.00404987e-01],\n",
              "       [1.61937485e-01],\n",
              "       [1.26847783e-01],\n",
              "       [9.54864865e-02],\n",
              "       [6.81669460e-02],\n",
              "       [4.51621298e-02],\n",
              "       [2.67018944e-02],\n",
              "       [1.29706884e-02],\n",
              "       [4.10570950e-03],\n",
              "       [1.95533568e-04],\n",
              "       [1.27922981e-03],\n",
              "       [7.34597031e-03],\n",
              "       [1.83351382e-02],\n",
              "       [3.41369333e-02],\n",
              "       [5.45934694e-02],\n",
              "       [7.95003514e-02],\n",
              "       [1.08608718e-01],\n",
              "       [1.41627728e-01],\n",
              "       [1.78227467e-01],\n",
              "       [2.18042242e-01],\n",
              "       [2.60674236e-01],\n",
              "       [3.05697486e-01],\n",
              "       [3.52662133e-01],\n",
              "       [4.01098922e-01],\n",
              "       [4.50523890e-01],\n",
              "       [5.00443198e-01],\n",
              "       [5.50358069e-01],\n",
              "       [5.99769769e-01],\n",
              "       [6.48184595e-01],\n",
              "       [6.95118799e-01],\n",
              "       [7.40103433e-01],\n",
              "       [7.82689024e-01],\n",
              "       [8.22450070e-01],\n",
              "       [8.58989293e-01],\n",
              "       [8.91941605e-01],\n",
              "       [9.20977757e-01],\n",
              "       [9.45807630e-01],\n",
              "       [9.66183132e-01],\n",
              "       [9.81900676e-01],\n",
              "       [9.92803220e-01],\n",
              "       [9.98781828e-01],\n",
              "       [9.99776764e-01],\n",
              "       [9.95778087e-01],\n",
              "       [9.86825751e-01],\n",
              "       [9.73009203e-01],\n",
              "       [9.54466495e-01],\n",
              "       [9.31382900e-01],\n",
              "       [9.03989060e-01],\n",
              "       [8.72558686e-01],\n",
              "       [8.37405820e-01],\n",
              "       [7.98881698e-01],\n",
              "       [7.57371240e-01],\n",
              "       [7.13289205e-01],\n",
              "       [6.67076045e-01],\n",
              "       [6.19193508e-01],\n",
              "       [5.70120021e-01],\n",
              "       [5.20345908e-01],\n",
              "       [4.70368497e-01],\n",
              "       [4.20687145e-01],\n",
              "       [3.71798252e-01],\n",
              "       [3.24190300e-01],\n",
              "       [2.78338972e-01],\n",
              "       [2.34702398e-01],\n",
              "       [1.93716581e-01],\n",
              "       [1.55791039e-01],\n",
              "       [1.21304709e-01],\n",
              "       [9.06021693e-02],\n",
              "       [6.39901882e-02],\n",
              "       [4.17346643e-02],\n",
              "       [2.40579672e-02],\n",
              "       [1.11367167e-02],\n",
              "       [3.10001778e-03],\n",
              "       [2.81703720e-05],\n",
              "       [1.95186738e-03],\n",
              "       [8.85188786e-03],\n",
              "       [2.06592891e-02],\n",
              "       [3.72560954e-02],\n",
              "       [5.84764771e-02],\n",
              "       [8.41084070e-02],\n",
              "       [1.13895779e-01],\n",
              "       [1.47540969e-01],\n",
              "       [1.84707803e-01],\n",
              "       [2.25024924e-01],\n",
              "       [2.68089497e-01],\n",
              "       [3.13471233e-01],\n",
              "       [3.60716695e-01],\n",
              "       [4.09353821e-01],\n",
              "       [4.58896644e-01],\n",
              "       [5.08850150e-01],\n",
              "       [5.58715219e-01],\n",
              "       [6.07993616e-01],\n",
              "       [6.56192968e-01],\n",
              "       [7.02831682e-01],\n",
              "       [7.47443761e-01],\n",
              "       [7.89583454e-01],\n",
              "       [8.28829716e-01],\n",
              "       [8.64790412e-01],\n",
              "       [8.97106234e-01],\n",
              "       [9.25454293e-01]])"
            ]
          },
          "metadata": {},
          "execution_count": 39
        }
      ]
    },
    {
      "cell_type": "markdown",
      "source": [
        "# Creating a model"
      ],
      "metadata": {
        "id": "7poueQTbYUXH"
      }
    },
    {
      "cell_type": "code",
      "source": [
        "length = 50\n",
        "batch_size = 1\n",
        "\n",
        "generator = TimeseriesGenerator(scaled_train,scaled_train,\n",
        "                                length=length,batch_size=batch_size)"
      ],
      "metadata": {
        "id": "1IT3nsudUtbQ"
      },
      "execution_count": 41,
      "outputs": []
    },
    {
      "cell_type": "code",
      "source": [
        "from tensorflow.keras.models import Sequential"
      ],
      "metadata": {
        "id": "4OpEIA_eYk36"
      },
      "execution_count": 43,
      "outputs": []
    },
    {
      "cell_type": "code",
      "source": [
        "from tensorflow.keras.layers import Dense,SimpleRNN,LSTM"
      ],
      "metadata": {
        "id": "A39147L_ZQUl"
      },
      "execution_count": 45,
      "outputs": []
    },
    {
      "cell_type": "code",
      "source": [
        "n_features = 1"
      ],
      "metadata": {
        "id": "B3oNojoyZ1tZ"
      },
      "execution_count": 46,
      "outputs": []
    },
    {
      "cell_type": "code",
      "source": [
        "model = Sequential()\n",
        "\n",
        "model.add(SimpleRNN(50,input_shape=(length,n_features)))\n",
        "\n",
        "model.add(Dense(1))\n",
        "\n",
        "model.compile(optimizer='adam',loss='mse')"
      ],
      "metadata": {
        "id": "_Baz0MTLaD-A"
      },
      "execution_count": 47,
      "outputs": []
    },
    {
      "cell_type": "code",
      "source": [
        "model.summary()"
      ],
      "metadata": {
        "colab": {
          "base_uri": "https://localhost:8080/"
        },
        "id": "3uU6hx8Taurv",
        "outputId": "cd59843c-a84f-44fe-a320-f64a705d457f"
      },
      "execution_count": 48,
      "outputs": [
        {
          "output_type": "stream",
          "name": "stdout",
          "text": [
            "Model: \"sequential\"\n",
            "_________________________________________________________________\n",
            " Layer (type)                Output Shape              Param #   \n",
            "=================================================================\n",
            " simple_rnn (SimpleRNN)      (None, 50)                2600      \n",
            "                                                                 \n",
            " dense (Dense)               (None, 1)                 51        \n",
            "                                                                 \n",
            "=================================================================\n",
            "Total params: 2651 (10.36 KB)\n",
            "Trainable params: 2651 (10.36 KB)\n",
            "Non-trainable params: 0 (0.00 Byte)\n",
            "_________________________________________________________________\n"
          ]
        }
      ]
    },
    {
      "cell_type": "code",
      "source": [
        "model.fit_generator(generator,epochs=5)"
      ],
      "metadata": {
        "colab": {
          "base_uri": "https://localhost:8080/"
        },
        "id": "XuYuRdaEawRY",
        "outputId": "fac35dd8-c3e9-401a-d6f3-098fd07f6966"
      },
      "execution_count": 49,
      "outputs": [
        {
          "output_type": "stream",
          "name": "stdout",
          "text": [
            "Epoch 1/5\n"
          ]
        },
        {
          "output_type": "stream",
          "name": "stderr",
          "text": [
            "<ipython-input-49-063492f5aede>:1: UserWarning: `Model.fit_generator` is deprecated and will be removed in a future version. Please use `Model.fit`, which supports generators.\n",
            "  model.fit_generator(generator,epochs=5)\n"
          ]
        },
        {
          "output_type": "stream",
          "name": "stdout",
          "text": [
            "401/401 [==============================] - 5s 7ms/step - loss: 0.0030\n",
            "Epoch 2/5\n",
            "401/401 [==============================] - 3s 8ms/step - loss: 3.6573e-04\n",
            "Epoch 3/5\n",
            "401/401 [==============================] - 5s 13ms/step - loss: 2.1773e-04\n",
            "Epoch 4/5\n",
            "401/401 [==============================] - 3s 8ms/step - loss: 1.1535e-05\n",
            "Epoch 5/5\n",
            "401/401 [==============================] - 5s 12ms/step - loss: 5.7248e-04\n"
          ]
        },
        {
          "output_type": "execute_result",
          "data": {
            "text/plain": [
              "<keras.src.callbacks.History at 0x7be951471c60>"
            ]
          },
          "metadata": {},
          "execution_count": 49
        }
      ]
    },
    {
      "cell_type": "code",
      "source": [
        "losses = pd.DataFrame(model.history.history)"
      ],
      "metadata": {
        "id": "4uexmH1QbA3p"
      },
      "execution_count": 50,
      "outputs": []
    },
    {
      "cell_type": "code",
      "source": [
        "losses.plot()"
      ],
      "metadata": {
        "colab": {
          "base_uri": "https://localhost:8080/",
          "height": 447
        },
        "id": "DmS1ZGqBbTwz",
        "outputId": "d2f6e515-1623-4d8c-f1f6-1ca5fadcb8c6"
      },
      "execution_count": 51,
      "outputs": [
        {
          "output_type": "execute_result",
          "data": {
            "text/plain": [
              "<Axes: >"
            ]
          },
          "metadata": {},
          "execution_count": 51
        },
        {
          "output_type": "display_data",
          "data": {
            "text/plain": [
              "<Figure size 640x480 with 1 Axes>"
            ],
            "image/png": "[encoded data removed]"
          },
          "metadata": {}
        }
      ]
    },
    {
      "cell_type": "code",
      "source": [
        "first_eval_batch = scaled_train[-length:]"
      ],
      "metadata": {
        "id": "ZHg8WZjlbVkb"
      },
      "execution_count": 52,
      "outputs": []
    },
    {
      "cell_type": "code",
      "source": [
        "first_eval_batch = first_eval_batch.reshape((1,length,n_features))"
      ],
      "metadata": {
        "id": "Ne5KSjSDezQW"
      },
      "execution_count": 53,
      "outputs": []
    },
    {
      "cell_type": "code",
      "source": [
        "model.predict(first_eval_batch)"
      ],
      "metadata": {
        "colab": {
          "base_uri": "https://localhost:8080/"
        },
        "id": "XWDWbvsoe-L7",
        "outputId": "2dc41d1c-522a-4b01-ea09-758cfda4b555"
      },
      "execution_count": 54,
      "outputs": [
        {
          "output_type": "stream",
          "name": "stdout",
          "text": [
            "1/1 [==============================] - 0s 249ms/step\n"
          ]
        },
        {
          "output_type": "execute_result",
          "data": {
            "text/plain": [
              "array([[0.93847]], dtype=float32)"
            ]
          },
          "metadata": {},
          "execution_count": 54
        }
      ]
    },
    {
      "cell_type": "code",
      "source": [
        "scaled_test[0]"
      ],
      "metadata": {
        "colab": {
          "base_uri": "https://localhost:8080/"
        },
        "id": "2SHIo78mfBE0",
        "outputId": "b47ba56f-6497-491a-e4cd-c0ce1b6bfb79"
      },
      "execution_count": 55,
      "outputs": [
        {
          "output_type": "execute_result",
          "data": {
            "text/plain": [
              "array([0.94955134])"
            ]
          },
          "metadata": {},
          "execution_count": 55
        }
      ]
    },
    {
      "cell_type": "code",
      "source": [
        "test_predictions = []\n",
        "\n",
        "first_eval_batch = scaled_train[-length:]\n",
        "current_batch = first_eval_batch.reshape((1,length,n_features))\n",
        "\n",
        "for i in range(len(test)):\n",
        "\n",
        "  current_pred = model.predict(current_batch)[0]\n",
        "\n",
        "  test_predictions.append(current_pred)\n",
        "\n",
        "  current_batch = np.append(current_batch[:,1:,:],[[current_pred]],axis=1)"
      ],
      "metadata": {
        "colab": {
          "base_uri": "https://localhost:8080/"
        },
        "id": "ju2dB4LRfHsB",
        "outputId": "36b0f048-93a8-43b3-c91e-c1e89f59fb19"
      },
      "execution_count": 57,
      "outputs": [
        {
          "output_type": "stream",
          "name": "stdout",
          "text": [
            "1/1 [==============================] - 0s 23ms/step\n",
            "1/1 [==============================] - 0s 20ms/step\n",
            "1/1 [==============================] - 0s 23ms/step\n",
            "1/1 [==============================] - 0s 21ms/step\n",
            "1/1 [==============================] - 0s 20ms/step\n",
            "1/1 [==============================] - 0s 20ms/step\n",
            "1/1 [==============================] - 0s 21ms/step\n",
            "1/1 [==============================] - 0s 23ms/step\n",
            "1/1 [==============================] - 0s 21ms/step\n",
            "1/1 [==============================] - 0s 21ms/step\n",
            "1/1 [==============================] - 0s 22ms/step\n",
            "1/1 [==============================] - 0s 22ms/step\n",
            "1/1 [==============================] - 0s 21ms/step\n",
            "1/1 [==============================] - 0s 20ms/step\n",
            "1/1 [==============================] - 0s 21ms/step\n",
            "1/1 [==============================] - 0s 23ms/step\n",
            "1/1 [==============================] - 0s 20ms/step\n",
            "1/1 [==============================] - 0s 23ms/step\n",
            "1/1 [==============================] - 0s 26ms/step\n",
            "1/1 [==============================] - 0s 21ms/step\n",
            "1/1 [==============================] - 0s 20ms/step\n",
            "1/1 [==============================] - 0s 21ms/step\n",
            "1/1 [==============================] - 0s 22ms/step\n",
            "1/1 [==============================] - 0s 20ms/step\n",
            "1/1 [==============================] - 0s 22ms/step\n",
            "1/1 [==============================] - 0s 29ms/step\n",
            "1/1 [==============================] - 0s 26ms/step\n",
            "1/1 [==============================] - 0s 30ms/step\n",
            "1/1 [==============================] - 0s 25ms/step\n",
            "1/1 [==============================] - 0s 25ms/step\n",
            "1/1 [==============================] - 0s 25ms/step\n",
            "1/1 [==============================] - 0s 23ms/step\n",
            "1/1 [==============================] - 0s 25ms/step\n",
            "1/1 [==============================] - 0s 26ms/step\n",
            "1/1 [==============================] - 0s 26ms/step\n",
            "1/1 [==============================] - 0s 26ms/step\n",
            "1/1 [==============================] - 0s 24ms/step\n",
            "1/1 [==============================] - 0s 27ms/step\n",
            "1/1 [==============================] - 0s 23ms/step\n",
            "1/1 [==============================] - 0s 24ms/step\n",
            "1/1 [==============================] - 0s 21ms/step\n",
            "1/1 [==============================] - 0s 22ms/step\n",
            "1/1 [==============================] - 0s 21ms/step\n",
            "1/1 [==============================] - 0s 21ms/step\n",
            "1/1 [==============================] - 0s 20ms/step\n",
            "1/1 [==============================] - 0s 24ms/step\n",
            "1/1 [==============================] - 0s 28ms/step\n",
            "1/1 [==============================] - 0s 24ms/step\n",
            "1/1 [==============================] - 0s 24ms/step\n",
            "1/1 [==============================] - 0s 22ms/step\n"
          ]
        }
      ]
    },
    {
      "cell_type": "code",
      "source": [
        "test_predictions"
      ],
      "metadata": {
        "colab": {
          "base_uri": "https://localhost:8080/"
        },
        "id": "fDIufkIifZDi",
        "outputId": "a0cde51b-e659-484f-8051-90378a379657"
      },
      "execution_count": 58,
      "outputs": [
        {
          "output_type": "execute_result",
          "data": {
            "text/plain": [
              "[array([0.93847], dtype=float32),\n",
              " array([0.9544595], dtype=float32),\n",
              " array([0.9665606], dtype=float32),\n",
              " array([0.97046286], dtype=float32),\n",
              " array([0.9696598], dtype=float32),\n",
              " array([0.9654474], dtype=float32),\n",
              " array([0.9545066], dtype=float32),\n",
              " array([0.93992144], dtype=float32),\n",
              " array([0.9193204], dtype=float32),\n",
              " array([0.896289], dtype=float32),\n",
              " array([0.86899143], dtype=float32),\n",
              " array([0.8379571], dtype=float32),\n",
              " array([0.80263686], dtype=float32),\n",
              " array([0.7655713], dtype=float32),\n",
              " array([0.72473323], dtype=float32),\n",
              " array([0.6812346], dtype=float32),\n",
              " array([0.636053], dtype=float32),\n",
              " array([0.58997405], dtype=float32),\n",
              " array([0.541562], dtype=float32),\n",
              " array([0.49344137], dtype=float32),\n",
              " array([0.44401997], dtype=float32),\n",
              " array([0.39517882], dtype=float32),\n",
              " array([0.34660777], dtype=float32),\n",
              " array([0.29930583], dtype=float32),\n",
              " array([0.25302273], dtype=float32),\n",
              " array([0.2098997], dtype=float32),\n",
              " array([0.16810109], dtype=float32),\n",
              " array([0.1293725], dtype=float32),\n",
              " array([0.09521969], dtype=float32),\n",
              " array([0.06446005], dtype=float32),\n",
              " array([0.0371911], dtype=float32),\n",
              " array([0.01547495], dtype=float32),\n",
              " array([-0.00205469], dtype=float32),\n",
              " array([-0.01432572], dtype=float32),\n",
              " array([-0.02188378], dtype=float32),\n",
              " array([-0.02448457], dtype=float32),\n",
              " array([-0.02188666], dtype=float32),\n",
              " array([-0.01405093], dtype=float32),\n",
              " array([-0.00273211], dtype=float32),\n",
              " array([0.01330056], dtype=float32),\n",
              " array([0.0344387], dtype=float32),\n",
              " array([0.05870659], dtype=float32),\n",
              " array([0.08615762], dtype=float32),\n",
              " array([0.11832752], dtype=float32),\n",
              " array([0.15275091], dtype=float32),\n",
              " array([0.18987979], dtype=float32),\n",
              " array([0.22994637], dtype=float32),\n",
              " array([0.27193135], dtype=float32),\n",
              " array([0.31610408], dtype=float32),\n",
              " array([0.36221197], dtype=float32)]"
            ]
          },
          "metadata": {},
          "execution_count": 58
        }
      ]
    },
    {
      "cell_type": "code",
      "source": [
        "true_predictions = scaler.inverse_transform(test_predictions)\n",
        "true_predictions"
      ],
      "metadata": {
        "colab": {
          "base_uri": "https://localhost:8080/"
        },
        "id": "4533llZqkglJ",
        "outputId": "ffb04aef-5011-4d12-dac0-b8cf764a1aa9"
      },
      "execution_count": 59,
      "outputs": [
        {
          "output_type": "execute_result",
          "data": {
            "text/plain": [
              "array([[ 0.87693474],\n",
              "       [ 0.90891345],\n",
              "       [ 0.93311548],\n",
              "       [ 0.94091993],\n",
              "       [ 0.93931384],\n",
              "       [ 0.93088915],\n",
              "       [ 0.90900763],\n",
              "       [ 0.87983758],\n",
              "       [ 0.83863585],\n",
              "       [ 0.79257339],\n",
              "       [ 0.73797871],\n",
              "       [ 0.67591051],\n",
              "       [ 0.60527063],\n",
              "       [ 0.5311401 ],\n",
              "       [ 0.44946463],\n",
              "       [ 0.36246806],\n",
              "       [ 0.27210564],\n",
              "       [ 0.17994842],\n",
              "       [ 0.08312514],\n",
              "       [-0.01311538],\n",
              "       [-0.11195739],\n",
              "       [-0.2096389 ],\n",
              "       [-0.30678022],\n",
              "       [-0.40138336],\n",
              "       [-0.49394881],\n",
              "       [-0.58019419],\n",
              "       [-0.66379073],\n",
              "       [-0.74124727],\n",
              "       [-0.80955235],\n",
              "       [-0.87107115],\n",
              "       [-0.9256086 ],\n",
              "       [-0.96904056],\n",
              "       [-1.00409956],\n",
              "       [-1.02864141],\n",
              "       [-1.04375741],\n",
              "       [-1.04895896],\n",
              "       [-1.04376317],\n",
              "       [-1.02809184],\n",
              "       [-1.00545439],\n",
              "       [-0.97338929],\n",
              "       [-0.93111337],\n",
              "       [-0.88257797],\n",
              "       [-0.82767635],\n",
              "       [-0.76333706],\n",
              "       [-0.69449084],\n",
              "       [-0.62023367],\n",
              "       [-0.54010115],\n",
              "       [-0.45613187],\n",
              "       [-0.36778711],\n",
              "       [-0.27557208]])"
            ]
          },
          "metadata": {},
          "execution_count": 59
        }
      ]
    },
    {
      "cell_type": "code",
      "source": [
        "test['Predictions'] = true_predictions"
      ],
      "metadata": {
        "colab": {
          "base_uri": "https://localhost:8080/"
        },
        "id": "8tc0SXtnkoke",
        "outputId": "7b3d8ed0-9a68-4416-cb92-5b3524100f59"
      },
      "execution_count": 60,
      "outputs": [
        {
          "output_type": "stream",
          "name": "stderr",
          "text": [
            "<ipython-input-60-920b79c3c314>:1: SettingWithCopyWarning: \n",
            "A value is trying to be set on a copy of a slice from a DataFrame.\n",
            "Try using .loc[row_indexer,col_indexer] = value instead\n",
            "\n",
            "See the caveats in the documentation: https://pandas.pydata.org/pandas-docs/stable/user_guide/indexing.html#returning-a-view-versus-a-copy\n",
            "  test['Predictions'] = true_predictions\n"
          ]
        }
      ]
    },
    {
      "cell_type": "code",
      "source": [
        "test.plot(figsize=(12,8))"
      ],
      "metadata": {
        "colab": {
          "base_uri": "https://localhost:8080/",
          "height": 590
        },
        "id": "gTfklA9Akxlz",
        "outputId": "1e328bfa-d7d9-4072-dc79-16a4dc3510ac"
      },
      "execution_count": 63,
      "outputs": [
        {
          "output_type": "execute_result",
          "data": {
            "text/plain": [
              "<Axes: >"
            ]
          },
          "metadata": {},
          "execution_count": 63
        },
        {
          "output_type": "display_data",
          "data": {
            "text/plain": [
              "<Figure size 1200x800 with 1 Axes>"
            ],
            "image/png": "[encoded data removed]"
          },
          "metadata": {}
        }
      ]
    },
    {
      "cell_type": "code",
      "source": [],
      "metadata": {
        "id": "xI9WTbWYky68"
      },
      "execution_count": null,
      "outputs": []
    }
  ]
}